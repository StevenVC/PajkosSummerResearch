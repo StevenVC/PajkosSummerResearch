{
 "cells": [
  {
   "cell_type": "code",
   "execution_count": 1,
   "metadata": {},
   "outputs": [],
   "source": [
    "import numpy as np\n",
    "from numpy import *\n",
    "from math import pi\n",
    "import matplotlib as mpl\n",
    "from matplotlib import animation\n",
    "from matplotlib import pyplot as plt\n",
    "from time import sleep\n",
    "from IPython.display import clear_output"
   ]
  },
  {
   "cell_type": "code",
   "execution_count": 2,
   "metadata": {},
   "outputs": [],
   "source": [
    "def cenDiff(x,y): #4th order central difference stencil method\n",
    "    \n",
    "    if size(x) != size(y): #Check for simmilar size between x and y\n",
    "        print(\"x and y not the same size!\")\n",
    "        return\n",
    "    \n",
    "    nx = size(x) #Get the number of x values\n",
    "    dydx = zeros(nx) #Create an array of 0's with a simmilar size to x as stored in nx\n",
    "    h = 0.001\n",
    "    \n",
    "    dydx[0] = (((-3*y[0]) + (4*y[1]) + (-1*y[2])) / (2*h)) / (((-3*x[0]) + (4*x[1]) + (-1*x[2])) / (2*h))\n",
    "    dydx[1] = (((-3*y[0+1]) + (4*y[1+1]) + (-1*y[2+1])) / (2*h)) / (((-3*x[0+1]) + (4*x[1+1]) + (-1*x[2+1])) / (2*h))\n",
    "    \n",
    "    for i in range(2,nx-2):\n",
    "        dydx[i] = (((y[i-2]) - (8*y[i-1]) + (8*y[i+1]) - (y[i+2])) / (12*h)) / (((x[i-2]) - (8*x[i-1]) + (8*x[i+1]) - (x[i+2])) / (12*h))\n",
    "    \n",
    "    dydx[-1] = (((3*y[nx-1]) + (-4*y[nx-2]) + (y[nx-3])) / (2*h)) / (((3*x[nx-1]) + (-4*x[nx-2]) + (x[nx-3])) / (2*h))\n",
    "    dydx[-2] = (((3*y[nx-1-1]) + (-4*y[nx-2-1]) + (y[nx-3-1])) / (2*h)) / (((3*x[nx-1-1]) + (-4*x[nx-2-1]) + (x[nx-3-1])) / (2*h))\n",
    "    \n",
    "    return dydx #Return the dydx list\n",
    "\n",
    "def dataLoad(path, filename, col1): #Load data, from (path+filename) pull from (col1) columns\n",
    "    time = loadtxt(path+\"/\"+filename, usecols=(0), unpack=True)\n",
    "    outData = loadtxt(path+\"/\"+filename, usecols=(col1[0], col1[1], col1[2]), unpack=True)\n",
    "    return(time, outData) #Return (time) and (outData), as an array\n",
    "\n",
    "def getData2D(time, QzzDat, theta=[np.pi/2], derivType=0):\n",
    "    #[/] What does this function do?\n",
    "    #Load in data from a given file, using two coloumns (0,col1).\n",
    "    #Run it through an equation to extract the gravitational wave (GW) signal.\n",
    "    #Return GW signal and time as h, t respectively\n",
    "\n",
    "    #t, Qzz = loadtxt(filename, usecols=(0,col1), unpack=True) #Load in data (0,col1) from file \n",
    "    QddotZZ = cenDiff(time,QzzDat) #Get the dy/dx (dQzz/dt) values for the data \n",
    "    \n",
    "    #[/] Want Newton's constant divided by the speed of light to the fourth power: G/c^4 [in cgs units]\n",
    "    Gc4 = (6.674E-8) / (2.997E10)**4  \n",
    "    \n",
    "    #[/] Want 10 Kilaparsecs converted to cm\n",
    "    distance = 10 * (3.085677E21) \n",
    "    \n",
    "    if derivType == 0:\n",
    "        #[/] Want Equation (3) from this paper (ignore the sin^2 term for now): https://arxiv.org/pdf/2011.09000.pdf\n",
    "        h = (3/2) * (Gc4/distance) * QddotZZ \n",
    "    \n",
    "    else:\n",
    "        hConstants = (3/2) * (Gc4/distance) * (np.sin(theta)**2)\n",
    "        \n",
    "        h = np.outer(QddotZZ,hConstants)\n",
    "        \n",
    "    return time, h\n",
    "\n",
    "def get2D(time, fullQzzDat, tbounce=0.0, theta=[np.pi/2], viewAngleYN=0):\n",
    "    \"\"\"\n",
    "    Input:\n",
    "        path : the path of flash.dat file\n",
    "        fname: the file name of flash.dat\n",
    "        tbounce: the bounce time in seconds\n",
    "\n",
    "    Output:\n",
    "        time:\n",
    "        hplus50:\n",
    "        hplus150:\n",
    "        hplusInf:\n",
    "        hplusTot:\n",
    "    \"\"\"\n",
    "    #fn  = path+\"/\"+fname\n",
    "    \n",
    "    #Below you will input column numbers from the .dat files you worked with last week\n",
    "    \n",
    "    t1, hplus50  = getData2D(time, fullQzzDat[0], theta, viewAngleYN) #[/] Want the \"ddI yy r<50km\" column here (be careful of python indexing)\n",
    "    t1, hplus150 = getData2D(time, fullQzzDat[1], theta, viewAngleYN) #[/] Want the \"ddI yy 50<r<150\" column here\n",
    "    t1, hplusInf = getData2D(time, fullQzzDat[2], theta, viewAngleYN) #[/] Want the \"ddI yy r>150km\" column here\n",
    "    \n",
    "    hplusTot = hplus50 + hplus150 + hplusInf\n",
    "\n",
    "    time = t1 - tbounce\n",
    "\n",
    "    return time, hplus50, hplus150, hplusInf, hplusTot"
   ]
  },
  {
   "cell_type": "code",
   "execution_count": 3,
   "metadata": {},
   "outputs": [],
   "source": [
    "#(https://watermark.silverchair.com/128-183.pdf?token=AQECAHi208BE49Ooan9kkhW_Ercy7Dm3ZL_9Cf3qfKAc485ysgAAAs8wggLLBgkqhkiG9w0BBwagggK8MIICuAIBADCCArEGCSqGSIb3DQEHATAeBglghkgBZQMEAS4wEQQMjTqC-mjavhdU-GTsAgEQgIICghnArifHcDpJA81JGdo5Ef4SO5kENQO57VuQ3g9ElVSiP02pDdeVx4kaCW6p7iwwBOejiFhPXA7kcqWJro4fwwI53B8ayQt5tuyURGzoCzLHEjOdC7pCz_injcByakAI98L8qiSR0GNqKdgwNrK4lQc5S8Oz62DkRK9PHHBazftQwFMHplD6lLy9Eq2fZOxZpkm0cZlP2jB5UoK5jBCvQtPu5ogAh8Q_mkWDvhE1Zl61XZOhUg78_YaURvrF4MbMZGSwy_fMpdrrmJN4hzytaAWBqD0QaKf-kDo2uw2Msx2Z8a7GRO5P1HCqyM7Zysd08LiX8sT5qyfO1I8KnGtS3WDk7C5N1oCyL9dsvZEpRKSysB8ewaRF_d3vNejfXr48bF_8_Ahmznwm_l-21g7jFVFobtoehluIuh6vY5iyG0JNShJHDkDofLAJqoBAJnGdzb16MMg8Yu8L_Crq0_DdkKR915AIZpdEzstSsy7mNsI-_4EXR72zKDF4u0s5pqTBLf7abdF6bq0YQHKqRqvdNtdb-ulTw54kUCyDAu8fY1UmZa6kpuIop-VSrGVsQKTdnD31VUMKQ4SbSjiCA9m5vdpzau8Nsl_axpjQ-9fDFc-ehIq8TRTA-a8zSx84OoT6105dVZ3ioYTpeobMfsj0WrvT5qIUM_kQ0FiwZgmFCPw07JKfXMdH6dd0Mnc_ikN0Ap_aPYVKlSohvtaVE8j-IXFIJ_Id1qVtebvG_JEkz38LGxII7wHsiMo8OUSVSAi4xyB-wdBD_l18OiV9Wa7AIgMpaFVbEnepLrtnGoFXjpOu3swQuOanxqedsbBS6pmv4xtwwtMaBjM53tFFj0HsbFA6aw)\n",
    "#(https://arxiv.org/pdf/2011.09000.pdf)\n",
    "def getDataPlusGeneral(filename,theta,phi,col1,col2,col3,col4,col5,col6,CenDiff=True):\n",
    "    #get h+ in terms of arbitrary angle [M.A.P 4 June'19]\n",
    "    t,Qxx,Qyy,Qxy,Qxz,Qyz,Qzz = loadtxt(filename, usecols=(0,col1,col2,col3,col4,col5,col6), unpack=True)\n",
    "    #If True, .dat files contain first time derivative of Q, else\n",
    "    #.dat files contain second time derivative of Q\n",
    "    if (CenDiff == True):\n",
    "        QddotXX = cenDiff(t,Qxx)\n",
    "        QddotYY = cenDiff(t,Qyy)\n",
    "        QddotXY = cenDiff(t,Qxy)\n",
    "        QddotXZ = cenDiff(t,Qxz)\n",
    "        QddotYZ = cenDiff(t,Qyz)\n",
    "        QddotZZ = cenDiff(t,Qzz)\n",
    "    else:\n",
    "        QddotXX = Qxx\n",
    "        QddotYY = Qyy\n",
    "        QddotXY = Qxy\n",
    "        QddotXZ = Qxz\n",
    "        QddotYZ = Qyz\n",
    "        QddotZZ = Qzz\n",
    "    Gc4 = 6.67e-8/3e10/3e10/3e10/3e10 #constants\n",
    "    distance = 10.e3*3.086e18 # [10 kpc]\n",
    "    \n",
    "    #h+ calculcation (Does this match?  Beware it may use some trig identities)\n",
    "    h = 1.0*Gc4/distance*(QddotXX*(np.cos(theta)*np.cos(theta)*np.cos(phi)*np.cos(phi)-np.sin(phi)*np.sin(phi))+ \\\n",
    "                          QddotYY*(np.cos(theta)*np.cos(theta)*np.sin(phi)*np.sin(phi)-np.cos(phi)*np.cos(phi))- \\\n",
    "                          QddotXY*(np.cos(theta)*np.cos(theta)+1)*np.sin(2.*phi)+QddotZZ*np.sin(theta)*np.sin(theta)- \\\n",
    "                          (QddotXZ*np.cos(phi) + QddotYZ*np.sin(phi))*np.sin(2*theta))\n",
    "    ts = t\n",
    "    return ts, h\n",
    "\n",
    "def plusGeneral(theta,phi,t,Qxx,Qyy,Qxy,Qxz,Qyz,Qzz,CenDiff=True): #No data loading version\n",
    "    #get h+ in terms of arbitrary angle [M.A.P 4 June'19]\n",
    "    #If True, .dat files contain first time derivative of Q, else\n",
    "    #.dat files contain second time derivative of Q\n",
    "    if (CenDiff == True):\n",
    "        QddotXX = cenDiff(t,Qxx)\n",
    "        QddotYY = cenDiff(t,Qyy)\n",
    "        QddotXY = cenDiff(t,Qxy)\n",
    "        QddotXZ = cenDiff(t,Qxz)\n",
    "        QddotYZ = cenDiff(t,Qyz)\n",
    "        QddotZZ = cenDiff(t,Qzz)\n",
    "    else:\n",
    "        QddotXX = Qxx\n",
    "        QddotYY = Qyy\n",
    "        QddotXY = Qxy\n",
    "        QddotXZ = Qxz\n",
    "        QddotYZ = Qyz\n",
    "        QddotZZ = Qzz\n",
    "        \n",
    "    Gc4 = 6.67e-8/3e10/3e10/3e10/3e10 #Constant\n",
    "    distance = 10.e3*3.086e18 # [10 kpc]\n",
    "    \n",
    "    #h+ calculcation (Does this match?  Beware it may use some trig identities)\n",
    "#     h = (QddotXX*(np.cos(theta)*np.cos(theta)*np.cos(phi)*np.cos(phi)-np.sin(phi)*np.sin(phi))+ \\\n",
    "#          QddotYY*(np.cos(theta)*np.cos(theta)*np.sin(phi)*np.sin(phi)-np.cos(phi)*np.cos(phi))- \\\n",
    "#          QddotXY*(np.cos(theta)*np.cos(theta)+1)*np.sin(2.*phi)+QddotZZ*np.sin(theta)*np.sin(theta)- \\\n",
    "#         (QddotXZ*np.cos(phi) + QddotYZ*np.sin(phi))*np.sin(2*theta))\n",
    "    \n",
    "    h = np.outer(QddotXX, np.cos(theta)*np.cos(theta)*np.cos(phi)*np.cos(phi)-np.sin(phi)*np.sin(phi)) + \\\n",
    "        np.outer(QddotYY, np.cos(theta)*np.cos(theta)*np.sin(phi)*np.sin(phi)-np.cos(phi)*np.cos(phi)) - \\\n",
    "        np.outer(QddotXY, np.sin(2*phi)*np.sin(theta)*np.sin(theta)) + \\\n",
    "        np.outer(QddotZZ, np.sin(theta)*np.sin(theta)) - \\\n",
    "        np.outer(QddotXZ, np.sin(2*theta)*np.cos(phi)) - \\\n",
    "        np.outer(QddotYZ, np.sin(2*theta)*np.sin(phi))\n",
    "    \n",
    "    h *= 1.0*Gc4/distance\n",
    "    \n",
    "    h = np.reshape(h,(np.shape(QddotYZ)[0],np.shape(theta[0])[0],np.shape(theta[0])[0]))\n",
    "    \n",
    "    return(h)\n",
    "\n",
    "\n",
    "def getDataCrossGeneral(filename,theta,phi,col1,col2,col3,col4,col5,CenDiff=True):\n",
    "    #get hx in terms of arbitrary angle [M.A.P 4 June'19]\n",
    "    t,Qxx,Qyy,Qxy,Qxz,Qyz = loadtxt(filename, usecols=(0,col1,col2,col3,col4,col5), unpack=True)\n",
    "    #If True, .dat files contain first time derivative of Q, else\n",
    "    #.dat files contain second time derivative of Q\n",
    "    if (CenDiff == True):\n",
    "        QddotXX = cenDiff(t,Qxx)\n",
    "        QddotYY = cenDiff(t,Qyy)\n",
    "        QddotXY = cenDiff(t,Qxy)\n",
    "        QddotXZ = cenDiff(t,Qxz)\n",
    "        QddotYZ = cenDiff(t,Qyz)\n",
    "    else:\n",
    "        QddotXX = Qxx\n",
    "        QddotYY = Qyy\n",
    "        QddotXY = Qxy\n",
    "        QddotXZ = Qxz\n",
    "        QddotYZ = Qyz\n",
    "\n",
    "    Gc4 = 6.67e-8/3e10/3e10/3e10/3e10\n",
    "    distance = 10.e3*3.086e18 # [10 kpc]\n",
    "    \n",
    "    #hx calculcation (Does this match?  Beware it may use some trig identities)\n",
    "#     h = 2.0*Gc4/distance*(-0.5*(QddotXX-QddotYY)*np.cos(theta)*np.sin(2.*phi)+ \\\n",
    "#                            1.0*QddotXY*np.cos(theta)*np.cos(2.*phi)+ \\\n",
    "#                            1.0*QddotXZ*np.sin(theta)*np.sin(phi)- \\\n",
    "#                            2.0*QddotYZ*np.sin(theta)*np.cos(phi))\n",
    "    \n",
    "    h = 2.0*Gc4/distance*((QddotYY-QddotXX)*np.cos(theta)*np.sin(phi)*np.cos(phi)+ \\\n",
    "                           QddotXY*np.cos(theta)*np.cos(2*phi)+ \\\n",
    "                           QddotXZ*np.sin(theta)*np.sin(phi)- \\\n",
    "                           QddotYZ*np.sin(theta)*np.cos(phi))\n",
    "    \n",
    "    ts = t\n",
    "    return ts, h\n",
    "\n",
    "def crossGeneral(theta,phi,t,Qxx,Qyy,Qxy,Qxz,Qyz,CenDiff=True): #No data loading version\n",
    "    #get hx in terms of arbitrary angle [M.A.P 4 June'19]\n",
    "    #If True, .dat files contain first time derivative of Q, else\n",
    "    #.dat files contain second time derivative of Q\n",
    "    if (CenDiff == True):\n",
    "        QddotXX = cenDiff(t,Qxx)\n",
    "        QddotYY = cenDiff(t,Qyy)\n",
    "        QddotXY = cenDiff(t,Qxy)\n",
    "        QddotXZ = cenDiff(t,Qxz)\n",
    "        QddotYZ = cenDiff(t,Qyz)\n",
    "    else:\n",
    "        QddotXX = Qxx\n",
    "        QddotYY = Qyy\n",
    "        QddotXY = Qxy\n",
    "        QddotXZ = Qxz\n",
    "        QddotYZ = Qyz\n",
    "\n",
    "    Gc4 = 6.67e-8/3e10/3e10/3e10/3e10\n",
    "    distance = 10.e3*3.086e18 # [10 kpc]\n",
    "    \n",
    "#     h = 2.0*Gc4/distance*((QddotYY-QddotXX)*np.cos(theta)*np.sin(phi)*np.cos(phi)+ \\\n",
    "#                            QddotXY*np.cos(theta)*np.cos(2*phi)+ \\\n",
    "#                            QddotXZ*np.sin(theta)*np.sin(phi)- \\\n",
    "#                            QddotYZ*np.sin(theta)*np.cos(phi))\n",
    "    \n",
    "    h = np.outer(QddotYY-QddotXX,np.cos(theta)*np.sin(phi)*np.cos(phi)) + \\\n",
    "        np.outer(QddotXY,np.cos(theta)*np.cos(2*phi)) + \\\n",
    "        np.outer(QddotXZ,np.sin(theta)*np.sin(phi)) - \\\n",
    "        np.outer(QddotYZ,np.sin(theta)*np.cos(phi))\n",
    "    \n",
    "    h *= 2.0*Gc4/distance\n",
    "    \n",
    "    h = np.reshape(h,(np.shape(QddotYZ)[0],np.shape(theta[0])[0],np.shape(theta[0])[0]))\n",
    "    \n",
    "    return(h)\n",
    "\n",
    "def get3Dsum(path,fname,theta,phi,tbounce=0,CenDiff=True, P_C=0): #P_C = 0 (use Plus), P_C = 1 (use Cross)\n",
    "    \"\"\"\n",
    "    Return h+ polarization for arbitrary angle (theta,phi)\n",
    "    See Oohara (1997) eqns (2.9a)-(2.10c)\n",
    "    theta - altitudinal angle [radians]\n",
    "    phi   - azimuthal angle  [radians]\n",
    "    \"\"\"\n",
    "    fn  = path+\"/\"+fname\n",
    "    #pruneDat(fn) ?\n",
    "    \n",
    "    #may want an if statement here and additional argument above to choose between Plus or Cross polarizations\n",
    "    t1, h  = getDataPlusGeneral(fn,theta,phi, 45, 47, 46, 48, 49, 50, CenDiff) #mesa20 columns\n",
    "    if (P_C == 1):\n",
    "        t1, h  = getDataCrossGeneral(fn,theta,phi, 45, 47, 46, 48, 49, CenDiff)#Kuochuan rotating runs\n",
    "    \n",
    "    time = t1 - tbounce\n",
    "    return time, h"
   ]
  },
  {
   "cell_type": "code",
   "execution_count": 4,
   "metadata": {},
   "outputs": [],
   "source": [
    "def loadDatQ(path, fname, colFull):\n",
    "    fileName  = path+\"/\"+fname\n",
    "    \n",
    "    t,Qxx,Qyy,Qxy,Qxz,Qyz,Qzz = loadtxt(fileName, usecols = (colFull), unpack=True)\n",
    "    \n",
    "    return(t,Qxx,Qyy,Qxy,Qxz,Qyz,Qzz)"
   ]
  },
  {
   "cell_type": "code",
   "execution_count": 5,
   "metadata": {},
   "outputs": [],
   "source": [
    "def cenDiffFront(x,y): #1st and 2nd 4th order central difference \n",
    "    nx = size(x) #Get the number of x values\n",
    "    h = 0.001\n",
    "    \n",
    "    dydx = (((-3*y[0]) + (4*y[1]) + (-1*y[2])) / (2*h)) / (((-3*x[0]) + (4*x[1]) + (-1*x[2])) / (2*h))\n",
    "    return(dydx)\n",
    "\n",
    "def cenDiffMid(x,y): #Inbetweens 4th order central difference\n",
    "    nx = size(x) #Get the number of x values\n",
    "    h = 0.001\n",
    "    \n",
    "    dydx = (((y[-2]) - (8*y[-1]) + (8*y[1]) - (y[2])) / (12*h)) / (((x[-2]) - (8*x[-1]) + (8*x[1]) - (x[2])) / (12*h))\n",
    "    return(dydx)\n",
    "\n",
    "def cenDiffBack(x,y): #last and 2nd to last 4th order central difference\n",
    "    nx = size(x) #Get the number of x values\n",
    "    h = 0.001\n",
    "    \n",
    "    dydx = (((3*y[nx-1]) + (-4*y[nx-2]) + (y[nx-3])) / (2*h)) / (((3*x[nx-1]) + (-4*x[nx-2]) + (x[nx-3])) / (2*h))\n",
    "    return(dydx)"
   ]
  },
  {
   "cell_type": "code",
   "execution_count": 6,
   "metadata": {},
   "outputs": [],
   "source": [
    "def strain3DSurfMaxValue(timeRange, timeStep, nVerts, polarization = 0): #polarization (0 = cross, !0 = plus)\n",
    "    timeInitital = timeRange[0]\n",
    "    timeEnd = timeRange[-1]\n",
    "\n",
    "    #if timeEnd%timeStep != 0:\n",
    "    #    print('Check timeEnd, timeStep')\n",
    "        \n",
    "    #theta - altitudinal angle [radians]\n",
    "    #phi   - azimuthal angle  [radians]\n",
    "    phiTheta = np.mgrid[0:np.pi:nVerts, 0:2*np.pi:nVerts]\n",
    "    time = t[timeRange]\n",
    "    \n",
    "    QddotXX = cenDiff(time,Qxx[timeRange])\n",
    "    QddotYY = cenDiff(time,Qyy[timeRange])\n",
    "    QddotXY = cenDiff(time,Qxy[timeRange])\n",
    "    QddotXZ = cenDiff(time,Qxz[timeRange])\n",
    "    QddotYZ = cenDiff(time,Qyz[timeRange])\n",
    "    QddotZZ = cenDiff(time,Qzz[timeRange])\n",
    "    \n",
    "    if polarization == 0: \n",
    "        hValsR = crossGeneral(phiTheta[0],phiTheta[1],time,QddotXX,QddotYY,QddotXY,QddotXZ,QddotYZ,CenDiff=False)\n",
    "    \n",
    "    else:\n",
    "        hValsR = plusGeneral(phiTheta[0],phiTheta[1],time,QddotXX,QddotYY,QddotXY,QddotXZ,QddotYZ,QddotZZ,CenDiff=False)\n",
    "\n",
    "    xSph = hValsR * np.sin(phiTheta[1]) * np.cos(phiTheta[0])\n",
    "    ySph = hValsR * np.sin(phiTheta[1]) * np.sin(phiTheta[0])\n",
    "    zSph = hValsR * np.cos(phiTheta[1])\n",
    "    \n",
    "    return(xSph,ySph,zSph,hValsR)"
   ]
  },
  {
   "cell_type": "code",
   "execution_count": 7,
   "metadata": {},
   "outputs": [],
   "source": [
    "def genScatterPlot(cord_XYZ_Set, path, prefix, title, rotationArray, alfa = 0.8, norm = False): \n",
    "    #Unpack cord values (using .flatten on sliced object)\n",
    "    xSet, ySet, zSet = cord_XYZ_Set[:,0], cord_XYZ_Set[:,1], cord_XYZ_Set[:,2]\n",
    "    \n",
    "    if norm != False: \n",
    "        rPos = (xSet**2 + ySet**2 + zSet**2)**(1/2) #Get length of r\n",
    "        \n",
    "        xSet = xSet/rPos #Normalize x data\n",
    "        ySet = ySet/rPos #Normalize y data\n",
    "        zSet = zSet/rPos #Normalize z data\n",
    "        \n",
    "    count = 0\n",
    "    \n",
    "    for i in rotationArray: #Redraw plot and savefig\n",
    "        fig = plt.figure(figsize = (15,15))\n",
    "        axSV_MV = fig.add_subplot(111, projection='3d')\n",
    "    \n",
    "        #mpl.cm.viridis\n",
    "        colorMap = 'viridis'\n",
    "        sc = axSV_MV.scatter(xSet, ySet, zSet, c = np.arange(len(xSet)), cmap = colorMap, s = 60, edgecolors = 'black', alpha = alfa)\n",
    "        axSV_MV.view_init(elev=0, azim=i) #Change view parameters (spin along the azimuth)\n",
    "        \n",
    "        axSV_MV.set_xlabel('x', fontsize = 15) #Assign label\n",
    "        axSV_MV.set_ylabel('y', fontsize = 15) #Assign label\n",
    "        axSV_MV.set_zlabel('z', fontsize = 15) #Assign label\n",
    "        \n",
    "        axSV_MV.set_title(title, y=0.95, fontsize=15)\n",
    "        \n",
    "        figNorm = mpl.colors.Normalize(t[0],t[-1]) # map time data to colorbar (https://bit.ly/3lnV0VR)\n",
    "        cBar = fig.colorbar(plt.cm.ScalarMappable(norm = figNorm, cmap = colorMap), ax = axSV_MV, shrink=0.5) #Add color bar to axes = axSV_MV\n",
    "        cBar.set_label('Time(s)', fontsize = 15)\n",
    "        \n",
    "        i_str = str(count)\n",
    "        suffix = i_str.rjust(4,'0')\n",
    "        fig.savefig(path + prefix + suffix + '.jpeg')\n",
    "        fig.clear()\n",
    "        plt.close(fig)\n",
    "        count += 1\n",
    "    \n",
    "    return(axSV_MV)"
   ]
  },
  {
   "cell_type": "code",
   "execution_count": 8,
   "metadata": {},
   "outputs": [],
   "source": [
    "def maxStrainScatterPlot(prefix, path, title, rotationArray = np.arange(0,90,1), polarization = 0, dataStepThrough = 10, numberVerts = 100j):\n",
    "    iterStartMV = 0 #Iteration start\n",
    "    iterEndMV = len(t) #Iteration end\n",
    "    iterStepMV = 10 #Iteration step\n",
    "    nVertsMV = numberVerts #n^(1/2) verts in spherical space\n",
    "\n",
    "    iterRangeMV = np.arange(iterStartMV,iterEndMV,iterStepMV) #Create iter array\n",
    "\n",
    "    sV_X, sV_Y, sV_Z, sV_R = strain3DSurfMaxValue(iterRangeMV, iterStepMV, nVertsMV, polarization = polarization) #sV_# -> strain value array (X,Y,Z,R)\n",
    "\n",
    "    sV_R_Pos = np.array([]) #Initialize empty array\n",
    "\n",
    "    sV_X_Flat = sV_X.reshape((len(sV_X),len(sV_X[0])**2)) #Flatten cord array to 2d array \n",
    "    sV_Y_Flat = sV_Y.reshape((len(sV_Y),len(sV_Y[0])**2)) #Flatten cord array to 2d array \n",
    "    sV_Z_Flat = sV_Z.reshape((len(sV_Z),len(sV_Z[0])**2)) #Flatten cord array to 2d array \n",
    "    sV_R_Flat = sV_R.reshape((len(sV_R),len(sV_R[0])**2)) #Flatten radius array to 2d array \n",
    "\n",
    "    sV_R_Pos = np.argmax(sV_R_Flat,axis=1) #Get max R value at each time\n",
    "\n",
    "    sV_X_MV = np.take_along_axis(sV_X_Flat, np.expand_dims(sV_R_Pos, axis=1),axis=1) #Get values associated with max R values at each time\n",
    "    sV_Y_MV = np.take_along_axis(sV_Y_Flat, np.expand_dims(sV_R_Pos, axis=1),axis=1) #Get values associated with max R values at each time\n",
    "    sV_Z_MV = np.take_along_axis(sV_Z_Flat, np.expand_dims(sV_R_Pos, axis=1),axis=1) #Get values associated with max R values at each time\n",
    "\n",
    "    sV_XYZ_MV = hstack((sV_X_MV,sV_Y_MV,sV_Z_MV)) #Stack cord arrays \n",
    "    \n",
    "    genScatterPlot(sV_XYZ_MV, path, prefix, title, rotationArray, norm = True) #Generate 3D scatter plot\n",
    "\n",
    "    return()"
   ]
  },
  {
   "cell_type": "code",
   "execution_count": 9,
   "metadata": {},
   "outputs": [],
   "source": [
    "#Data read info\n",
    "path = r'C:\\Users\\crazy\\PajkosResearch\\Mesa20DataFiles'\n",
    "\n",
    "fNames_mensa20 = np.array(['mesa20_LR.dat','mesa20_pert.dat','mesa20_pert_LR.dat','mesa20_v_LR.dat','mesa20b.dat'])\n",
    "\n",
    "polarizationA = np.array(['cross-polarized','plus-polarized']) #Polarization of the data\n",
    "\n",
    "colUse = [0, 45, 47, 46, 48, 49, 50] #Coloumns where data is read from\n",
    "\n",
    "rA = np.arange(0,360,2) #Rotation array (start,end,step) (degrees)\n",
    "\n",
    "polarPC = 1 #Polarization (0 = cross, 1 = plus)"
   ]
  },
  {
   "cell_type": "markdown",
   "metadata": {},
   "source": [
    "## Mesa20_pert.dat Work"
   ]
  },
  {
   "cell_type": "code",
   "execution_count": 10,
   "metadata": {},
   "outputs": [],
   "source": [
    "t,Qxx,Qyy,Qxy,Qxz,Qyz,Qzz = loadDatQ(path, fNames_mensa20[1], colUse)"
   ]
  },
  {
   "cell_type": "code",
   "execution_count": 12,
   "metadata": {
    "scrolled": false
   },
   "outputs": [
    {
     "data": {
      "text/plain": [
       "<Figure size 432x288 with 0 Axes>"
      ]
     },
     "metadata": {},
     "output_type": "display_data"
    }
   ],
   "source": [
    "polarPC = 0 #Polarization (0 = cross, 1 = plus)\n",
    "\n",
    "blockTitle = 'Normalized, Maximum Gravitational Wave Strain (Data: '+fNames_mensa20[1][:-4]+') ('+polarizationA[polarPC]+')'\n",
    "maxStrainScatterPlot('3DScatter_mesa20_cross_','AnimationRotateScatter/mesa20_pert_MaxStrain_3dScatter/', blockTitle, rotationArray = rA, polarization = polarPC, numberVerts = 100j)\n",
    "plt.clf()\n",
    "\n",
    "#ffmpeg -framerate 10 -i 3DScatter_mesa20_cross_%04d.jpeg 3DScatter_mesa20_pert_cross_Movie.mp4"
   ]
  },
  {
   "cell_type": "code",
   "execution_count": 13,
   "metadata": {},
   "outputs": [
    {
     "data": {
      "text/plain": [
       "<Figure size 432x288 with 0 Axes>"
      ]
     },
     "metadata": {},
     "output_type": "display_data"
    }
   ],
   "source": [
    "polarPC = 1 #Polarization (0 = cross, 1 = plus)\n",
    "\n",
    "blockTitle = 'Normalized, Maximum Gravitational Wave Strain (Data: '+fNames_mensa20[1][:-4]+') ('+polarizationA[polarPC]+')'\n",
    "maxStrainScatterPlot('3DScatter_mesa20_plus_','AnimationRotateScatter/mesa20_pert_MaxStrain_3dScatter/', blockTitle, rotationArray = rA, polarization = polarPC, numberVerts = 100j)\n",
    "plt.clf()\n",
    "\n",
    "#ffmpeg -framerate 10 -i 3DScatter_mesa20_plus_%04d.jpeg 3DScatter_mesa20_pert_plus_Movie.mp4"
   ]
  },
  {
   "cell_type": "markdown",
   "metadata": {},
   "source": [
    "## Mesa20_LR.dat Work"
   ]
  },
  {
   "cell_type": "code",
   "execution_count": 14,
   "metadata": {},
   "outputs": [],
   "source": [
    "t,Qxx,Qyy,Qxy,Qxz,Qyz,Qzz = loadDatQ(path, fNames_mensa20[0], colUse)"
   ]
  },
  {
   "cell_type": "code",
   "execution_count": 15,
   "metadata": {
    "scrolled": true
   },
   "outputs": [
    {
     "data": {
      "text/plain": [
       "<Figure size 432x288 with 0 Axes>"
      ]
     },
     "metadata": {},
     "output_type": "display_data"
    }
   ],
   "source": [
    "polarPC = 0 #Polarization (0 = cross, 1 = plus)\n",
    "\n",
    "blockTitle = 'Normalized, Maximum Gravitational Wave Strain (Data: '+fNames_mensa20[0][:-4]+') ('+polarizationA[polarPC]+')'\n",
    "maxStrainScatterPlot('3DScatter_mesa20_cross_','AnimationRotateScatter/mesa20_LR_MaxStrain_3dScatter/', blockTitle, rotationArray = rA, polarization = polarPC, numberVerts = 100j)\n",
    "plt.clf()\n",
    "\n",
    "#ffmpeg -framerate 10 -i 3DScatter_mesa20_cross_%04d.jpeg 3DScatter_mesa20_LR_cross_Movie.mp4"
   ]
  },
  {
   "cell_type": "code",
   "execution_count": 16,
   "metadata": {},
   "outputs": [
    {
     "data": {
      "text/plain": [
       "<Figure size 432x288 with 0 Axes>"
      ]
     },
     "metadata": {},
     "output_type": "display_data"
    }
   ],
   "source": [
    "polarPC = 1 #Polarization (0 = cross, 1 = plus)\n",
    "\n",
    "blockTitle = 'Normalized, Maximum Gravitational Wave Strain (Data: '+fNames_mensa20[0][:-4]+') ('+polarizationA[polarPC]+')'\n",
    "maxStrainScatterPlot('3DScatter_mesa20_plus_','AnimationRotateScatter/mesa20_LR_MaxStrain_3dScatter/', blockTitle, rotationArray = rA, polarization = polarPC, numberVerts = 100j)\n",
    "plt.clf()\n",
    "\n",
    "#ffmpeg -framerate 10 -i 3DScatter_mesa20_plus_%04d.jpeg 3DScatter_mesa20_LR_plus_Movie.mp4"
   ]
  },
  {
   "cell_type": "markdown",
   "metadata": {},
   "source": [
    "## Mesa20_pert_LR.dat Work"
   ]
  },
  {
   "cell_type": "code",
   "execution_count": 17,
   "metadata": {},
   "outputs": [],
   "source": [
    "t,Qxx,Qyy,Qxy,Qxz,Qyz,Qzz = loadDatQ(path, fNames_mensa20[2], colUse)"
   ]
  },
  {
   "cell_type": "code",
   "execution_count": 18,
   "metadata": {},
   "outputs": [
    {
     "data": {
      "text/plain": [
       "<Figure size 432x288 with 0 Axes>"
      ]
     },
     "metadata": {},
     "output_type": "display_data"
    }
   ],
   "source": [
    "polarPC = 0 #Polarization (0 = cross, 1 = plus)\n",
    "\n",
    "blockTitle = 'Normalized, Maximum Gravitational Wave Strain (Data: '+fNames_mensa20[2][:-4]+') ('+polarizationA[polarPC]+')'\n",
    "maxStrainScatterPlot('3DScatter_mesa20_cross_','AnimationRotateScatter/mesa20_pert_LR_MaxStrain_3dScatter/', blockTitle, rotationArray = rA, polarization = polarPC, numberVerts = 100j)\n",
    "plt.clf()\n",
    "\n",
    "#ffmpeg -framerate 10 -i 3DScatter_mesa20_cross_%04d.jpeg 3DScatter_mesa20_pert_LR_cross_Movie.mp4"
   ]
  },
  {
   "cell_type": "code",
   "execution_count": 19,
   "metadata": {},
   "outputs": [
    {
     "data": {
      "text/plain": [
       "<Figure size 432x288 with 0 Axes>"
      ]
     },
     "metadata": {},
     "output_type": "display_data"
    }
   ],
   "source": [
    "polarPC = 1 #Polarization (0 = cross, 1 = plus)\n",
    "\n",
    "blockTitle = 'Normalized, Maximum Gravitational Wave Strain (Data: '+fNames_mensa20[2][:-4]+') ('+polarizationA[polarPC]+')'\n",
    "maxStrainScatterPlot('3DScatter_mesa20_plus_','AnimationRotateScatter/mesa20_pert_LR_MaxStrain_3dScatter/', blockTitle, rotationArray = rA, polarization = polarPC, numberVerts = 100j)\n",
    "plt.clf()\n",
    "\n",
    "#ffmpeg -framerate 10 -i 3DScatter_mesa20_plus_%04d.jpeg 3DScatter_mesa20_pert_LR_plus_Movie.mp4"
   ]
  },
  {
   "cell_type": "markdown",
   "metadata": {},
   "source": [
    "## Mesa20_v_LR.dat Work"
   ]
  },
  {
   "cell_type": "code",
   "execution_count": 20,
   "metadata": {},
   "outputs": [],
   "source": [
    "t,Qxx,Qyy,Qxy,Qxz,Qyz,Qzz = loadDatQ(path, fNames_mensa20[3], colUse)"
   ]
  },
  {
   "cell_type": "code",
   "execution_count": 21,
   "metadata": {},
   "outputs": [
    {
     "data": {
      "text/plain": [
       "<Figure size 432x288 with 0 Axes>"
      ]
     },
     "metadata": {},
     "output_type": "display_data"
    }
   ],
   "source": [
    "polarPC = 0 #Polarization (0 = cross, 1 = plus)\n",
    "\n",
    "blockTitle = 'Normalized, Maximum Gravitational Wave Strain (Data: '+fNames_mensa20[3][:-4]+') ('+polarizationA[polarPC]+')'\n",
    "maxStrainScatterPlot('3DScatter_mesa20_cross_','AnimationRotateScatter/mesa20_v_LR_MaxStrain_3dScatter/', blockTitle, rotationArray = rA, polarization = polarPC, numberVerts = 100j)\n",
    "plt.clf()\n",
    "\n",
    "#ffmpeg -framerate 10 -i 3DScatter_mesa20_cross_%04d.jpeg 3DScatter_mesa20_v_LR_cross_Movie.mp4"
   ]
  },
  {
   "cell_type": "code",
   "execution_count": 22,
   "metadata": {},
   "outputs": [
    {
     "data": {
      "text/plain": [
       "<Figure size 432x288 with 0 Axes>"
      ]
     },
     "metadata": {},
     "output_type": "display_data"
    }
   ],
   "source": [
    "polarPC = 1 #Polarization (0 = cross, 1 = plus)\n",
    "\n",
    "blockTitle = 'Normalized, Maximum Gravitational Wave Strain (Data: '+fNames_mensa20[3][:-4]+') ('+polarizationA[polarPC]+')'\n",
    "maxStrainScatterPlot('3DScatter_mesa20_plus_','AnimationRotateScatter/mesa20_v_LR_MaxStrain_3dScatter/', blockTitle, rotationArray = rA, polarization = polarPC, numberVerts = 100j)\n",
    "plt.clf()\n",
    "\n",
    "#ffmpeg -framerate 10 -i 3DScatter_mesa20_plus_%04d.jpeg 3DScatter_mesa20_v_LR_plus_Movie.mp4"
   ]
  },
  {
   "cell_type": "markdown",
   "metadata": {},
   "source": [
    "## Mesa20_20b.dat"
   ]
  },
  {
   "cell_type": "code",
   "execution_count": 23,
   "metadata": {},
   "outputs": [],
   "source": [
    "t,Qxx,Qyy,Qxy,Qxz,Qyz,Qzz = loadDatQ(path, fNames_mensa20[4], colUse)"
   ]
  },
  {
   "cell_type": "code",
   "execution_count": 24,
   "metadata": {},
   "outputs": [
    {
     "data": {
      "text/plain": [
       "<Figure size 432x288 with 0 Axes>"
      ]
     },
     "metadata": {},
     "output_type": "display_data"
    }
   ],
   "source": [
    "polarPC = 0 #Polarization (0 = cross, 1 = plus)\n",
    "\n",
    "blockTitle = 'Normalized, Maximum Gravitational Wave Strain (Data: '+fNames_mensa20[4][:-4]+') ('+polarizationA[polarPC]+')'\n",
    "maxStrainScatterPlot('3DScatter_mesa20_cross_','AnimationRotateScatter/mesa20_20b_MaxStrain_3dScatter/', blockTitle, rotationArray = rA, polarization = polarPC, numberVerts = 100j)\n",
    "plt.clf()\n",
    "\n",
    "#ffmpeg -framerate 10 -i 3DScatter_mesa20_cross_%04d.jpeg 3DScatter_mesa20_20b_cross_Movie.mp4"
   ]
  },
  {
   "cell_type": "code",
   "execution_count": 25,
   "metadata": {},
   "outputs": [
    {
     "data": {
      "text/plain": [
       "<Figure size 432x288 with 0 Axes>"
      ]
     },
     "metadata": {},
     "output_type": "display_data"
    }
   ],
   "source": [
    "polarPC = 1 #Polarization (0 = cross, 1 = plus)\n",
    "\n",
    "blockTitle = 'Normalized, Maximum Gravitational Wave Strain (Data: '+fNames_mensa20[4][:-4]+') ('+polarizationA[polarPC]+')'\n",
    "maxStrainScatterPlot('3DScatter_mesa20_plus_','AnimationRotateScatter/mesa20_20b_MaxStrain_3dScatter/', blockTitle, rotationArray = rA, polarization = polarPC, numberVerts = 100j)\n",
    "plt.clf()\n",
    "\n",
    "#ffmpeg -framerate 10 -i 3DScatter_mesa20_plus_%04d.jpeg 3DScatter_mesa20_20b_plus_Movie.mp4"
   ]
  },
  {
   "cell_type": "code",
   "execution_count": null,
   "metadata": {},
   "outputs": [],
   "source": []
  }
 ],
 "metadata": {
  "kernelspec": {
   "display_name": "Python 3",
   "language": "python",
   "name": "python3"
  },
  "language_info": {
   "codemirror_mode": {
    "name": "ipython",
    "version": 3
   },
   "file_extension": ".py",
   "mimetype": "text/x-python",
   "name": "python",
   "nbconvert_exporter": "python",
   "pygments_lexer": "ipython3",
   "version": "3.8.8"
  }
 },
 "nbformat": 4,
 "nbformat_minor": 4
}
