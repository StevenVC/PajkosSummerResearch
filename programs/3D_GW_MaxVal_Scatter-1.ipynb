{
 "cells": [
  {
   "cell_type": "code",
   "execution_count": 1,
   "metadata": {},
   "outputs": [],
   "source": [
    "import numpy as np\n",
    "from numpy import *\n",
    "from math import pi\n",
    "import matplotlib as mpl\n",
    "from matplotlib import animation\n",
    "from matplotlib import pyplot as plt\n",
    "import matplotlib.colors as colors\n",
    "from time import sleep\n",
    "from IPython.display import clear_output\n",
    "from scipy import signal\n",
    "import scipy as scp"
   ]
  },
  {
   "cell_type": "code",
   "execution_count": 2,
   "metadata": {},
   "outputs": [],
   "source": [
    "def cenDiff(x,y): #4th order central difference stencil method\n",
    "    \n",
    "    if size(x) != size(y): #Check for simmilar size between x and y\n",
    "        print(\"x and y not the same size!\")\n",
    "        return\n",
    "    \n",
    "    nx = size(x) #Get the number of x values\n",
    "    dydx = zeros(nx) #Create an array of 0's with a simmilar size to x as stored in nx\n",
    "    h = 0.001\n",
    "    \n",
    "    dydx[0] = (((-3*y[0]) + (4*y[1]) + (-1*y[2])) / (2*h)) / (((-3*x[0]) + (4*x[1]) + (-1*x[2])) / (2*h))\n",
    "    dydx[1] = (((-3*y[0+1]) + (4*y[1+1]) + (-1*y[2+1])) / (2*h)) / (((-3*x[0+1]) + (4*x[1+1]) + (-1*x[2+1])) / (2*h))\n",
    "    \n",
    "    for i in range(2,nx-2):\n",
    "        dydx[i] = (((y[i-2]) - (8*y[i-1]) + (8*y[i+1]) - (y[i+2])) / (12*h)) / (((x[i-2]) - (8*x[i-1]) + (8*x[i+1]) - (x[i+2])) / (12*h))\n",
    "    \n",
    "    dydx[-1] = (((3*y[nx-1]) + (-4*y[nx-2]) + (y[nx-3])) / (2*h)) / (((3*x[nx-1]) + (-4*x[nx-2]) + (x[nx-3])) / (2*h))\n",
    "    dydx[-2] = (((3*y[nx-1-1]) + (-4*y[nx-2-1]) + (y[nx-3-1])) / (2*h)) / (((3*x[nx-1-1]) + (-4*x[nx-2-1]) + (x[nx-3-1])) / (2*h))\n",
    "    \n",
    "    return dydx #Return the dydx list\n",
    "\n",
    "def dataLoad(path, filename, col1): #Load data, from (path+filename) pull from (col1) columns\n",
    "    time = loadtxt(path+\"/\"+filename, usecols=(0), unpack=True)\n",
    "    outData = loadtxt(path+\"/\"+filename, usecols=(col1[0], col1[1], col1[2]), unpack=True)\n",
    "    return(time, outData) #Return (time) and (outData), as an array\n",
    "\n",
    "def getData2D(time, QzzDat, theta=[np.pi/2], derivType=0):\n",
    "    #[/] What does this function do?\n",
    "    #Load in data from a given file, using two coloumns (0,col1).\n",
    "    #Run it through an equation to extract the gravitational wave (GW) signal.\n",
    "    #Return GW signal and time as h, t respectively\n",
    "\n",
    "    #t, Qzz = loadtxt(filename, usecols=(0,col1), unpack=True) #Load in data (0,col1) from file \n",
    "    QddotZZ = cenDiff(time,QzzDat) #Get the dy/dx (dQzz/dt) values for the data \n",
    "    \n",
    "    #[/] Want Newton's constant divided by the speed of light to the fourth power: G/c^4 [in cgs units]\n",
    "    Gc4 = (6.674E-8) / (2.997E10)**4  \n",
    "    \n",
    "    #[/] Want 10 Kilaparsecs converted to cm\n",
    "    distance = 10 * (3.085677E21) \n",
    "    \n",
    "    if derivType == 0:\n",
    "        #[/] Want Equation (3) from this paper (ignore the sin^2 term for now): https://arxiv.org/pdf/2011.09000.pdf\n",
    "        h = (3/2) * (Gc4/distance) * QddotZZ \n",
    "    \n",
    "    else:\n",
    "        hConstants = (3/2) * (Gc4/distance) * (np.sin(theta)**2)\n",
    "        \n",
    "        h = np.outer(QddotZZ,hConstants)\n",
    "        \n",
    "    return time, h\n",
    "\n",
    "def get2D(time, fullQzzDat, tbounce=0.0, theta=[np.pi/2], viewAngleYN=0):\n",
    "    \"\"\"\n",
    "    Input:\n",
    "        path : the path of flash.dat file\n",
    "        fname: the file name of flash.dat\n",
    "        tbounce: the bounce time in seconds\n",
    "\n",
    "    Output:\n",
    "        time:\n",
    "        hplus50:\n",
    "        hplus150:\n",
    "        hplusInf:\n",
    "        hplusTot:\n",
    "    \"\"\"\n",
    "    #fn  = path+\"/\"+fname\n",
    "    \n",
    "    t1, hplus50  = getData2D(time, fullQzzDat[0], theta, viewAngleYN) #[/] Want the \"ddI yy r<50km\" column here (be careful of python indexing)\n",
    "    t1, hplus150 = getData2D(time, fullQzzDat[1], theta, viewAngleYN) #[/] Want the \"ddI yy 50<r<150\" column here\n",
    "    t1, hplusInf = getData2D(time, fullQzzDat[2], theta, viewAngleYN) #[/] Want the \"ddI yy r>150km\" column here\n",
    "    \n",
    "    hplusTot = hplus50 + hplus150 + hplusInf\n",
    "\n",
    "    time = t1 - tbounce\n",
    "\n",
    "    return time, hplus50, hplus150, hplusInf, hplusTot"
   ]
  },
  {
   "cell_type": "code",
   "execution_count": 3,
   "metadata": {},
   "outputs": [],
   "source": [
    "#(https://watermark.silverchair.com/128-183.pdf?token=AQECAHi208BE49Ooan9kkhW_Ercy7Dm3ZL_9Cf3qfKAc485ysgAAAs8wggLLBgkqhkiG9w0BBwagggK8MIICuAIBADCCArEGCSqGSIb3DQEHATAeBglghkgBZQMEAS4wEQQMjTqC-mjavhdU-GTsAgEQgIICghnArifHcDpJA81JGdo5Ef4SO5kENQO57VuQ3g9ElVSiP02pDdeVx4kaCW6p7iwwBOejiFhPXA7kcqWJro4fwwI53B8ayQt5tuyURGzoCzLHEjOdC7pCz_injcByakAI98L8qiSR0GNqKdgwNrK4lQc5S8Oz62DkRK9PHHBazftQwFMHplD6lLy9Eq2fZOxZpkm0cZlP2jB5UoK5jBCvQtPu5ogAh8Q_mkWDvhE1Zl61XZOhUg78_YaURvrF4MbMZGSwy_fMpdrrmJN4hzytaAWBqD0QaKf-kDo2uw2Msx2Z8a7GRO5P1HCqyM7Zysd08LiX8sT5qyfO1I8KnGtS3WDk7C5N1oCyL9dsvZEpRKSysB8ewaRF_d3vNejfXr48bF_8_Ahmznwm_l-21g7jFVFobtoehluIuh6vY5iyG0JNShJHDkDofLAJqoBAJnGdzb16MMg8Yu8L_Crq0_DdkKR915AIZpdEzstSsy7mNsI-_4EXR72zKDF4u0s5pqTBLf7abdF6bq0YQHKqRqvdNtdb-ulTw54kUCyDAu8fY1UmZa6kpuIop-VSrGVsQKTdnD31VUMKQ4SbSjiCA9m5vdpzau8Nsl_axpjQ-9fDFc-ehIq8TRTA-a8zSx84OoT6105dVZ3ioYTpeobMfsj0WrvT5qIUM_kQ0FiwZgmFCPw07JKfXMdH6dd0Mnc_ikN0Ap_aPYVKlSohvtaVE8j-IXFIJ_Id1qVtebvG_JEkz38LGxII7wHsiMo8OUSVSAi4xyB-wdBD_l18OiV9Wa7AIgMpaFVbEnepLrtnGoFXjpOu3swQuOanxqedsbBS6pmv4xtwwtMaBjM53tFFj0HsbFA6aw)\n",
    "#(https://arxiv.org/pdf/2011.09000.pdf)\n",
    "def getDataPlusGeneral(filename,theta,phi,col1,col2,col3,col4,col5,col6,CenDiff=True):\n",
    "    #get h+ in terms of arbitrary angle [M.A.P 4 June'19]\n",
    "    t,Qxx,Qyy,Qxy,Qxz,Qyz,Qzz = loadtxt(filename, usecols=(0,col1,col2,col3,col4,col5,col6), unpack=True)\n",
    "    #If True, .dat files contain first time derivative of Q, else\n",
    "    #.dat files contain second time derivative of Q\n",
    "    if (CenDiff == True):\n",
    "        QddotXX = cenDiff(t,Qxx)\n",
    "        QddotYY = cenDiff(t,Qyy)\n",
    "        QddotXY = cenDiff(t,Qxy)\n",
    "        QddotXZ = cenDiff(t,Qxz)\n",
    "        QddotYZ = cenDiff(t,Qyz)\n",
    "        QddotZZ = cenDiff(t,Qzz)\n",
    "    else:\n",
    "        QddotXX = Qxx\n",
    "        QddotYY = Qyy\n",
    "        QddotXY = Qxy\n",
    "        QddotXZ = Qxz\n",
    "        QddotYZ = Qyz\n",
    "        QddotZZ = Qzz\n",
    "    Gc4 = 6.67e-8/3e10/3e10/3e10/3e10 #constants\n",
    "    distance = 10.e3*3.086e18 # [10 kpc]\n",
    "    \n",
    "    h = 1.0*Gc4/distance*(QddotXX*(np.cos(theta)*np.cos(theta)*np.cos(phi)*np.cos(phi)-np.sin(phi)*np.sin(phi))+ \\\n",
    "                          QddotYY*(np.cos(theta)*np.cos(theta)*np.sin(phi)*np.sin(phi)-np.cos(phi)*np.cos(phi))- \\\n",
    "                          QddotXY*(np.cos(theta)*np.cos(theta)+1)*np.sin(2.*phi)+QddotZZ*np.sin(theta)*np.sin(theta)- \\\n",
    "                          (QddotXZ*np.cos(phi) + QddotYZ*np.sin(phi))*np.sin(2*theta))\n",
    "    ts = t\n",
    "    return ts, h\n",
    "\n",
    "\n",
    "def plusGeneral(theta,phi,t,Qxx,Qyy,Qxy,Qxz,Qyz,Qzz,CenDiff=True): #No data loading version\n",
    "    #get h+ in terms of arbitrary angle [M.A.P 4 June'19]\n",
    "    #If True, .dat files contain first time derivative of Q, else\n",
    "    #.dat files contain second time derivative of Q\n",
    "    if (CenDiff == True):\n",
    "        QddotXX = cenDiff(t,Qxx)\n",
    "        QddotYY = cenDiff(t,Qyy)\n",
    "        QddotXY = cenDiff(t,Qxy)\n",
    "        QddotXZ = cenDiff(t,Qxz)\n",
    "        QddotYZ = cenDiff(t,Qyz)\n",
    "        QddotZZ = cenDiff(t,Qzz)\n",
    "    else:\n",
    "        QddotXX = Qxx\n",
    "        QddotYY = Qyy\n",
    "        QddotXY = Qxy\n",
    "        QddotXZ = Qxz\n",
    "        QddotYZ = Qyz\n",
    "        QddotZZ = Qzz\n",
    "        \n",
    "    Gc4 = 6.67e-8/3e10/3e10/3e10/3e10 #Constant\n",
    "    distance = 10.e3*3.086e18 # [10 kpc]\n",
    "    \n",
    "    h = np.outer(QddotXX, np.cos(theta)*np.cos(theta)*np.cos(phi)*np.cos(phi)-np.sin(phi)*np.sin(phi)) + \\\n",
    "        np.outer(QddotYY, np.cos(theta)*np.cos(theta)*np.sin(phi)*np.sin(phi)-np.cos(phi)*np.cos(phi)) - \\\n",
    "        np.outer(QddotXY, np.sin(2*phi)*np.sin(theta)*np.sin(theta)) + \\\n",
    "        np.outer(QddotZZ, np.sin(theta)*np.sin(theta)) - \\\n",
    "        np.outer(QddotXZ, np.sin(2*theta)*np.cos(phi)) - \\\n",
    "        np.outer(QddotYZ, np.sin(2*theta)*np.sin(phi))\n",
    "    \n",
    "    h *= 1.0*Gc4/distance\n",
    "    \n",
    "    h = np.reshape(h,(np.shape(QddotYZ)[0],np.shape(theta[0])[0],np.shape(theta[0])[0]))\n",
    "    \n",
    "    return(h)\n",
    "\n",
    "\n",
    "def getDataCrossGeneral(filename,theta,phi,col1,col2,col3,col4,col5,CenDiff=True):\n",
    "    #get hx in terms of arbitrary angle [M.A.P 4 June'19]\n",
    "    t,Qxx,Qyy,Qxy,Qxz,Qyz = loadtxt(filename, usecols=(0,col1,col2,col3,col4,col5), unpack=True)\n",
    "    #If True, .dat files contain first time derivative of Q, else\n",
    "    #.dat files contain second time derivative of Q\n",
    "    if (CenDiff == True):\n",
    "        QddotXX = cenDiff(t,Qxx)\n",
    "        QddotYY = cenDiff(t,Qyy)\n",
    "        QddotXY = cenDiff(t,Qxy)\n",
    "        QddotXZ = cenDiff(t,Qxz)\n",
    "        QddotYZ = cenDiff(t,Qyz)\n",
    "    else:\n",
    "        QddotXX = Qxx\n",
    "        QddotYY = Qyy\n",
    "        QddotXY = Qxy\n",
    "        QddotXZ = Qxz\n",
    "        QddotYZ = Qyz\n",
    "\n",
    "    Gc4 = 6.67e-8/3e10/3e10/3e10/3e10\n",
    "    distance = 10.e3*3.086e18 # [10 kpc]\n",
    "    \n",
    "    h = 2.0*Gc4/distance*((QddotYY-QddotXX)*np.cos(theta)*np.sin(phi)*np.cos(phi)+ \\\n",
    "                           QddotXY*np.cos(theta)*np.cos(2*phi)+ \\\n",
    "                           QddotXZ*np.sin(theta)*np.sin(phi)- \\\n",
    "                           QddotYZ*np.sin(theta)*np.cos(phi))\n",
    "    \n",
    "    ts = t\n",
    "    return ts, h\n",
    "\n",
    "\n",
    "def crossGeneral(theta,phi,t,Qxx,Qyy,Qxy,Qxz,Qyz,CenDiff=True): #No data loading version\n",
    "    #get hx in terms of arbitrary angle [M.A.P 4 June'19]\n",
    "    #If True, .dat files contain first time derivative of Q, else\n",
    "    #.dat files contain second time derivative of Q\n",
    "    if (CenDiff == True):\n",
    "        QddotXX = cenDiff(t,Qxx)\n",
    "        QddotYY = cenDiff(t,Qyy)\n",
    "        QddotXY = cenDiff(t,Qxy)\n",
    "        QddotXZ = cenDiff(t,Qxz)\n",
    "        QddotYZ = cenDiff(t,Qyz)\n",
    "    else:\n",
    "        QddotXX = Qxx\n",
    "        QddotYY = Qyy\n",
    "        QddotXY = Qxy\n",
    "        QddotXZ = Qxz\n",
    "        QddotYZ = Qyz\n",
    "\n",
    "    Gc4 = 6.67e-8/3e10/3e10/3e10/3e10\n",
    "    distance = 10.e3*3.086e18 # [10 kpc]\n",
    "  \n",
    "    h = np.outer(QddotYY-QddotXX,np.cos(theta)*np.sin(phi)*np.cos(phi)) + \\\n",
    "        np.outer(QddotXY,np.cos(theta)*np.cos(2*phi)) + \\\n",
    "        np.outer(QddotXZ,np.sin(theta)*np.sin(phi)) - \\\n",
    "        np.outer(QddotYZ,np.sin(theta)*np.cos(phi))\n",
    "    \n",
    "    h *= 2.0*Gc4/distance\n",
    "    \n",
    "    h = np.reshape(h,(np.shape(QddotYZ)[0],np.shape(theta[0])[0],np.shape(theta[0])[0]))\n",
    "    \n",
    "    return(h)\n",
    "\n",
    "\n",
    "def normDiffGeneral(theta,phi,t,Qxx,Qyy,Qxy,Qxz,Qyz,Qzz,CenDiff=True):\n",
    "    if (CenDiff == True):\n",
    "        QddotXX = cenDiff(t,Qxx)\n",
    "        QddotYY = cenDiff(t,Qyy)\n",
    "        QddotXY = cenDiff(t,Qxy)\n",
    "        QddotXZ = cenDiff(t,Qxz)\n",
    "        QddotYZ = cenDiff(t,Qyz)\n",
    "        QddotZZ = cenDiff(t,Qzz)\n",
    "    else:\n",
    "        QddotXX = Qxx\n",
    "        QddotYY = Qyy\n",
    "        QddotXY = Qxy\n",
    "        QddotXZ = Qxz\n",
    "        QddotYZ = Qyz\n",
    "        QddotZZ = Qzz\n",
    "        \n",
    "    hPlusData = plusGeneral(theta,phi,time,QddotXX,QddotYY,QddotXY,QddotXZ,QddotYZ,QddotZZ,CenDiff=CenDiff)\n",
    "    hCrossData = crossGeneral(theta,phi,time,QddotXX,QddotYY,QddotXY,QddotXZ,QddotYZ,CenDiff=CenDiff)\n",
    "    \n",
    "    hNormDiff = (hPlusData - hCrossData) / np.sqrt(hPlusData**2 + hCrossData**2)    \n",
    "\n",
    "    return(hNormDiff)\n",
    "\n",
    "    \n",
    "def get3Dsum(path,fname,theta,phi,tbounce=0,CenDiff=True, P_C=0): #P_C = 0 (use Plus), P_C = 1 (use Cross)\n",
    "    \"\"\"\n",
    "    Return h+ polarization for arbitrary angle (theta,phi)\n",
    "    See Oohara (1997) eqns (2.9a)-(2.10c)\n",
    "    theta - altitudinal angle [radians]\n",
    "    phi   - azimuthal angle  [radians]\n",
    "    \"\"\"\n",
    "    fn  = path+\"/\"+fname\n",
    "    #pruneDat(fn) ?\n",
    "    \n",
    "    #may want an if statement here and additional argument above to choose between Plus or Cross polarizations\n",
    "    t1, h  = getDataPlusGeneral(fn,theta,phi, 45, 47, 46, 48, 49, 50, CenDiff) #mesa20 columns\n",
    "    if (P_C == 1):\n",
    "        t1, h  = getDataCrossGeneral(fn,theta,phi, 45, 47, 46, 48, 49, CenDiff)#Kuochuan rotating runs\n",
    "    \n",
    "    time = t1 - tbounce\n",
    "    return time, h"
   ]
  },
  {
   "cell_type": "code",
   "execution_count": 4,
   "metadata": {},
   "outputs": [],
   "source": [
    "def loadDatQ(path, fname, colFull):\n",
    "    fileName  = path+\"/\"+fname\n",
    "    \n",
    "    t,Qxx,Qyy,Qxy,Qxz,Qyz,Qzz = loadtxt(fileName, usecols = (colFull), unpack=True)\n",
    "    \n",
    "    return(t,Qxx,Qyy,Qxy,Qxz,Qyz,Qzz)"
   ]
  },
  {
   "cell_type": "code",
   "execution_count": 5,
   "metadata": {},
   "outputs": [],
   "source": [
    "def cenDiffFront(x,y): #1st and 2nd 4th order central difference \n",
    "    nx = size(x) #Get the number of x values\n",
    "    h = 0.001\n",
    "    \n",
    "    dydx = (((-3*y[0]) + (4*y[1]) + (-1*y[2])) / (2*h)) / (((-3*x[0]) + (4*x[1]) + (-1*x[2])) / (2*h))\n",
    "    return(dydx)\n",
    "\n",
    "def cenDiffMid(x,y): #Inbetweens 4th order central difference\n",
    "    nx = size(x) #Get the number of x values\n",
    "    h = 0.001\n",
    "    \n",
    "    dydx = (((y[-2]) - (8*y[-1]) + (8*y[1]) - (y[2])) / (12*h)) / (((x[-2]) - (8*x[-1]) + (8*x[1]) - (x[2])) / (12*h))\n",
    "    return(dydx)\n",
    "\n",
    "def cenDiffBack(x,y): #last and 2nd to last 4th order central difference\n",
    "    nx = size(x) #Get the number of x values\n",
    "    h = 0.001\n",
    "    \n",
    "    dydx = (((3*y[nx-1]) + (-4*y[nx-2]) + (y[nx-3])) / (2*h)) / (((3*x[nx-1]) + (-4*x[nx-2]) + (x[nx-3])) / (2*h))\n",
    "    return(dydx)"
   ]
  },
  {
   "cell_type": "code",
   "execution_count": 14,
   "metadata": {},
   "outputs": [],
   "source": [
    "def strain3DSurfMaxValue(timeRange, timeStep, nVerts, polarization = 0, cenDiffYN = False): #polarization (0 = cross, 1 = plus, 2 = norm diff)\n",
    "    timeInitital = timeRange[0]\n",
    "    timeEnd = timeRange[-1]\n",
    "\n",
    "    #if timeEnd%timeStep != 0:\n",
    "    #    print('Check timeEnd, timeStep')\n",
    "        \n",
    "    #theta - altitudinal angle [radians]\n",
    "    #phi   - azimuthal angle  [radians]\n",
    "    phiTheta = np.mgrid[0:np.pi:nVerts, 0:2*np.pi:nVerts]\n",
    "    time = t[timeRange]\n",
    "    \n",
    "    QddotXX = cenDiff(time,Qxx[timeRange])\n",
    "    QddotYY = cenDiff(time,Qyy[timeRange])\n",
    "    QddotXY = cenDiff(time,Qxy[timeRange])\n",
    "    QddotXZ = cenDiff(time,Qxz[timeRange])\n",
    "    QddotYZ = cenDiff(time,Qyz[timeRange])\n",
    "    QddotZZ = cenDiff(time,Qzz[timeRange])\n",
    "    \n",
    "    if polarization == 0: \n",
    "        hValsR = crossGeneral(phiTheta[0],phiTheta[1],time,QddotXX,QddotYY,QddotXY,QddotXZ,QddotYZ,CenDiff=cenDiffYN)\n",
    "    \n",
    "    elif polarization == 1:\n",
    "        hValsR = plusGeneral(phiTheta[0],phiTheta[1],time,QddotXX,QddotYY,QddotXY,QddotXZ,QddotYZ,QddotZZ,CenDiff=cenDiffYN)\n",
    "\n",
    "    elif polarization == 2:\n",
    "        hValsR = normDiffGeneral(phiTheta[0],phiTheta[1],time,QddotXX,QddotYY,QddotXY,QddotXZ,QddotYZ,QddotZZ,CenDiff=cenDiffYN)\n",
    "        \n",
    "    else:\n",
    "        print('Correct the value given for polarization (0 = cross, 1 = plus, 2 = norm diff)!!')\n",
    "        return()\n",
    "    \n",
    "    xSph = hValsR * np.sin(phiTheta[1]) * np.cos(phiTheta[0])\n",
    "    ySph = hValsR * np.sin(phiTheta[1]) * np.sin(phiTheta[0])\n",
    "    zSph = hValsR * np.cos(phiTheta[1])\n",
    "    \n",
    "    return(xSph,ySph,zSph,hValsR)"
   ]
  },
  {
   "cell_type": "code",
   "execution_count": 7,
   "metadata": {},
   "outputs": [],
   "source": [
    "#https://stackoverflow.com/questions/18926031/how-to-extract-a-subset-of-a-colormap-as-a-new-colormap-in-matplotlib\n",
    "def truncate_colormap(cmap, minval=0.0, maxval=1.0, n=100):\n",
    "    new_cmap = colors.LinearSegmentedColormap.from_list(\n",
    "        'trunc({n},{a:.2f},{b:.2f})'.format(n=cmap.name, a=minval, b=maxval),\n",
    "        cmap(np.linspace(minval, maxval, n)))\n",
    "    return new_cmap"
   ]
  },
  {
   "cell_type": "code",
   "execution_count": 8,
   "metadata": {},
   "outputs": [
    {
     "data": {
      "image/png": "[encoded data removed]",
      "text/plain": [
       "<Figure size 432x288 with 2 Axes>"
      ]
     },
     "metadata": {
      "needs_background": "light"
     },
     "output_type": "display_data"
    }
   ],
   "source": [
    "arr = np.linspace(0, 50, 100).reshape((10, 10))\n",
    "fig, ax = plt.subplots(ncols=2)\n",
    "\n",
    "cmap = plt.get_cmap('viridis')\n",
    "new_cmap = truncate_colormap(cmap, 0.1, 0.5)\n",
    "ax[0].imshow(arr, interpolation='nearest', cmap=cmap)\n",
    "ax[1].imshow(arr, interpolation='nearest', cmap=new_cmap)\n",
    "plt.show()"
   ]
  },
  {
   "cell_type": "code",
   "execution_count": 9,
   "metadata": {},
   "outputs": [],
   "source": [
    "def genScatterPlot(cord_XYZ_Set, path, prefix, title, rotationArray, alpha = 0.8, norm = True, dataSliceVals = (0,1)): \n",
    "    #Unpack cord values (using .flatten on sliced object)\n",
    "    xSet, ySet, zSet = cord_XYZ_Set[:,0], cord_XYZ_Set[:,1], cord_XYZ_Set[:,2]\n",
    "    \n",
    "    if norm == True: \n",
    "        rPos = (xSet**2 + ySet**2 + zSet**2)**(1/2) #Get length of r\n",
    "        \n",
    "        xSet = xSet/rPos #Normalize x data\n",
    "        ySet = ySet/rPos #Normalize y data\n",
    "        zSet = zSet/rPos #Normalize z data\n",
    "        \n",
    "    count = 0\n",
    "    newLen = len(xSet[dataSliceVals[0]:dataSliceVals[1]]) #Length of the data after slicing with dataSliceVals\n",
    "    \n",
    "    colorMapName = 'viridis'\n",
    "    colorMap = plt.get_cmap(colorMapName) #cmap to use\n",
    "    new_cmap = truncate_colormap(colorMap, dataSliceVals[0]/newLen,\n",
    "                                dataSliceVals[1]/newLen, newLen) #New cmap generated from dataSliceVals and colorMap\n",
    "    \n",
    "    for i in rotationArray: #Redraw plot and savefig\n",
    "        fig = plt.figure(figsize = (15,15))\n",
    "        axSV_MV = fig.add_subplot(111, projection='3d')\n",
    "        \n",
    "        sc = axSV_MV.scatter(xSet[dataSliceVals[0]:dataSliceVals[1]], ySet[dataSliceVals[0]:dataSliceVals[1]], zSet[dataSliceVals[0]:dataSliceVals[1]], \n",
    "                             c = np.linspace(dataSliceVals[0], dataSliceVals[1], newLen), cmap = new_cmap, s = 60, edgecolors = 'black', alpha = alpha)\n",
    "        \n",
    "        axSV_MV.view_init(elev=0, azim=i) #Change view parameters (spin along the azimuth)\n",
    "        \n",
    "        axSV_MV.set_xlabel('x', fontsize = 15) #Assign label\n",
    "        axSV_MV.set_ylabel('y', fontsize = 15) #Assign label\n",
    "        axSV_MV.set_zlabel('z', fontsize = 15) #Assign label\n",
    "        \n",
    "        axSV_MV.set_title(title, y=0.95, fontsize=15)\n",
    "        \n",
    "        figNorm = mpl.colors.Normalize(t[0],t[-1]) # map time data to colorbar (https://bit.ly/3lnV0VR)\n",
    "        cBar = fig.colorbar(plt.cm.ScalarMappable(norm = figNorm, cmap = colorMapName), ax = axSV_MV, shrink=0.5) #Add color bar to axes = axSV_MV\n",
    "        cBar.set_label('Time(s)', fontsize = 15)\n",
    "        \n",
    "        i_str = str(count)\n",
    "        suffix = i_str.rjust(4,'0')\n",
    "        fig.savefig(path + prefix + suffix + '.jpeg')\n",
    "        fig.clear()\n",
    "        plt.close(fig)\n",
    "        count += 1\n",
    "    \n",
    "    return(axSV_MV)"
   ]
  },
  {
   "cell_type": "code",
   "execution_count": 10,
   "metadata": {},
   "outputs": [],
   "source": [
    "def maxStrainScatterPlot(prefix, path, title, rotationArray = np.arange(0,90,1), polarization = 0, dataStepThrough = 10, numberVerts = 100j, norm = True, \n",
    "                         dataSlice = (0,1), cenDiffYN = False):\n",
    "    iterStartMV = 0 #Iteration start\n",
    "    iterEndMV = len(t) #Iteration end\n",
    "    iterStepMV = 10 #Iteration step\n",
    "    nVertsMV = numberVerts #n^(1/2) verts in spherical space\n",
    "\n",
    "    iterRangeMV = np.arange(iterStartMV,iterEndMV,iterStepMV) #Create iter array\n",
    "\n",
    "    timeIt = t[iterRangeMV] #Sampled time\n",
    "    \n",
    "    sV_X, sV_Y, sV_Z, sV_R = strain3DSurfMaxValue(iterRangeMV, iterStepMV, nVertsMV, polarization = polarization, cenDiffYN = cenDiffYN) #sV_# -> strain value array (X,Y,Z,R)\n",
    "\n",
    "    sV_R_Pos = np.array([]) #Initialize empty array\n",
    "\n",
    "    sV_X_Flat = sV_X.reshape((len(sV_X),len(sV_X[0])**2)) #Flatten cord array to 2d array \n",
    "    sV_Y_Flat = sV_Y.reshape((len(sV_Y),len(sV_Y[0])**2)) #Flatten cord array to 2d array \n",
    "    sV_Z_Flat = sV_Z.reshape((len(sV_Z),len(sV_Z[0])**2)) #Flatten cord array to 2d array \n",
    "    sV_R_Flat = sV_R.reshape((len(sV_R),len(sV_R[0])**2)) #Flatten radius array to 2d array \n",
    "\n",
    "    sV_R_Pos = np.argmax(sV_R_Flat,axis=1) #Get max R value at each time\n",
    "\n",
    "    sV_X_MV = np.take_along_axis(sV_X_Flat, np.expand_dims(sV_R_Pos, axis=1),axis=1) #Get values associated with max R values at each time\n",
    "    sV_Y_MV = np.take_along_axis(sV_Y_Flat, np.expand_dims(sV_R_Pos, axis=1),axis=1) #Get values associated with max R values at each time\n",
    "    sV_Z_MV = np.take_along_axis(sV_Z_Flat, np.expand_dims(sV_R_Pos, axis=1),axis=1) #Get values associated with max R values at each time\n",
    "\n",
    "    sV_XYZ_MV = hstack((sV_X_MV,sV_Y_MV,sV_Z_MV)) #Stack cord arrays \n",
    "\n",
    "    dataSliceStart = int(np.where(timeIt == timeIt[(timeIt >= dataSlice[0]) & (timeIt <= dataSlice[1])][0])[0]) #Get slice parameters from dataSlice\n",
    "    dataSliceEnd = int(np.where(timeIt == timeIt[(timeIt >= dataSlice[0]) & (timeIt <= dataSlice[1])][-1])[0]) #Get slice parameters from dataSlice\n",
    "    \n",
    "    #print('xyz coords:', sV_XYZ_MV[dataSliceStart:dataSliceEnd])\n",
    "\n",
    "    genScatterPlot(sV_XYZ_MV, path, prefix, title, rotationArray, norm = norm, dataSliceVals = (dataSliceStart, dataSliceEnd)) #Generate 3D scatter plot\n",
    "\n",
    "    return()"
   ]
  },
  {
   "cell_type": "code",
   "execution_count": 11,
   "metadata": {},
   "outputs": [],
   "source": [
    "#Data read info\n",
    "path = r'C:\\Users\\crazy\\PajkosResearch\\RawDataFiles'\n",
    "\n",
    "fNames_mensa20 = np.array(['mesa20_LR.dat','mesa20_pert.dat','mesa20_pert_LR.dat','mesa20_v_LR.dat','mesa20b.dat'])\n",
    "fNames_s40 = np.array(['s40_3d_fr.dat','s40_3d_nor.dat','s40_3d_sr.dat'])\n",
    "\n",
    "colUse = [0, 45, 47, 46, 48, 49, 50] #Coloumns where data is read from (for mesa20 data)\n",
    "colUse_s40 = [0, 49, 50, 51, 52, 53, 54] #Coloumns where data is read from (for s40 data)\n",
    "\n",
    "polarizationA = np.array(['cross-polarized','plus-polarized','normDiff-polarized']) #Polarization of the data\n",
    "\n",
    "rA = np.arange(0,360,2) #Rotation array (start,end,step) (degrees)\n",
    "\n",
    "polarPC = 1 #Polarization (0 = cross, 1 = plus)"
   ]
  },
  {
   "cell_type": "markdown",
   "metadata": {},
   "source": [
    "## Mesa20_pert.dat Work"
   ]
  },
  {
   "cell_type": "markdown",
   "metadata": {},
   "source": [
    "t,Qxx,Qyy,Qxy,Qxz,Qyz,Qzz = loadDatQ(path, fNames_mensa20[1], colUse)"
   ]
  },
  {
   "cell_type": "markdown",
   "metadata": {
    "scrolled": false
   },
   "source": [
    "polarPC = 0 #Polarization (0 = cross, 1 = plus)\n",
    "\n",
    "blockTitle = 'Normalized, Maximum Gravitational Wave Strain (Data: '+fNames_mensa20[1][:-4]+') ('+polarizationA[polarPC]+')'\n",
    "maxStrainScatterPlot('3DScatter_mesa20_cross_','AnimationRotateScatter/mesa20_pert_MaxStrain_3dScatter/', blockTitle, rotationArray = rA, polarization = polarPC, numberVerts = 100j)\n",
    "plt.clf()\n",
    "\n",
    "#ffmpeg -framerate 10 -i 3DScatter_mesa20_cross_%04d.jpeg 3DScatter_mesa20_pert_cross_Movie.mp4"
   ]
  },
  {
   "cell_type": "markdown",
   "metadata": {},
   "source": [
    "polarPC = 1 #Polarization (0 = cross, 1 = plus)\n",
    "\n",
    "blockTitle = 'Normalized, Maximum Gravitational Wave Strain (Data: '+fNames_mensa20[1][:-4]+') ('+polarizationA[polarPC]+')'\n",
    "maxStrainScatterPlot('3DScatter_mesa20_plus_','AnimationRotateScatter/mesa20_pert_MaxStrain_3dScatter/', blockTitle, rotationArray = rA, polarization = polarPC, numberVerts = 100j)\n",
    "plt.clf()\n",
    "\n",
    "#ffmpeg -framerate 10 -i 3DScatter_mesa20_plus_%04d.jpeg 3DScatter_mesa20_pert_plus_Movie.mp4"
   ]
  },
  {
   "cell_type": "markdown",
   "metadata": {},
   "source": [
    "## Mesa20_LR.dat Work"
   ]
  },
  {
   "cell_type": "code",
   "execution_count": null,
   "metadata": {},
   "outputs": [],
   "source": [
    "t,Qxx,Qyy,Qxy,Qxz,Qyz,Qzz = loadDatQ(path, fNames_mensa20[0], colUse)"
   ]
  },
  {
   "cell_type": "code",
   "execution_count": null,
   "metadata": {},
   "outputs": [],
   "source": [
    "polarPC = 0 #Polarization (0 = cross, 1 = plus)\n",
    "\n",
    "blockTitle = 'Normalized, Maximum Gravitational Wave Strain (Data: '+fNames_mensa20[0][:-4]+') ('+polarizationA[polarPC]+')'\n",
    "maxStrainScatterPlot('3DScatter_mesa20_cross_','AnimationRotateScatter/mesa20_LR_MaxStrain_3dScatter/', blockTitle, rotationArray = rA, polarization = polarPC, numberVerts = 100j)\n",
    "plt.clf()\n",
    "\n",
    "#ffmpeg -framerate 10 -i 3DScatter_mesa20_cross_%04d.jpeg 3DScatter_mesa20_LR_cross_Movie.mp4"
   ]
  },
  {
   "cell_type": "code",
   "execution_count": null,
   "metadata": {},
   "outputs": [],
   "source": [
    "polarPC = 1 #Polarization (0 = cross, 1 = plus)\n",
    "\n",
    "blockTitle = 'Normalized, Maximum Gravitational Wave Strain (Data: '+fNames_mensa20[0][:-4]+') ('+polarizationA[polarPC]+')'\n",
    "maxStrainScatterPlot('3DScatter_mesa20_plus_','AnimationRotateScatter/mesa20_LR_MaxStrain_3dScatter/', blockTitle, rotationArray = rA, polarization = polarPC, numberVerts = 100j)\n",
    "plt.clf()\n",
    "\n",
    "#ffmpeg -framerate 10 -i 3DScatter_mesa20_plus_%04d.jpeg 3DScatter_mesa20_LR_plus_Movie.mp4"
   ]
  },
  {
   "cell_type": "markdown",
   "metadata": {},
   "source": [
    "## Mesa20_pert_LR.dat Work"
   ]
  },
  {
   "cell_type": "markdown",
   "metadata": {},
   "source": [
    "t,Qxx,Qyy,Qxy,Qxz,Qyz,Qzz = loadDatQ(path, fNames_mensa20[2], colUse)"
   ]
  },
  {
   "cell_type": "markdown",
   "metadata": {},
   "source": [
    "polarPC = 0 #Polarization (0 = cross, 1 = plus)\n",
    "\n",
    "blockTitle = 'Normalized, Maximum Gravitational Wave Strain (Data: '+fNames_mensa20[2][:-4]+') ('+polarizationA[polarPC]+')'\n",
    "maxStrainScatterPlot('3DScatter_mesa20_cross_','AnimationRotateScatter/mesa20_pert_LR_MaxStrain_3dScatter/', blockTitle, rotationArray = rA, polarization = polarPC, numberVerts = 100j)\n",
    "plt.clf()\n",
    "\n",
    "#ffmpeg -framerate 10 -i 3DScatter_mesa20_cross_%04d.jpeg 3DScatter_mesa20_pert_LR_cross_Movie.mp4"
   ]
  },
  {
   "cell_type": "markdown",
   "metadata": {},
   "source": [
    "polarPC = 1 #Polarization (0 = cross, 1 = plus)\n",
    "\n",
    "blockTitle = 'Normalized, Maximum Gravitational Wave Strain (Data: '+fNames_mensa20[2][:-4]+') ('+polarizationA[polarPC]+')'\n",
    "maxStrainScatterPlot('3DScatter_mesa20_plus_','AnimationRotateScatter/mesa20_pert_LR_MaxStrain_3dScatter/', blockTitle, rotationArray = rA, polarization = polarPC, numberVerts = 100j)\n",
    "plt.clf()\n",
    "\n",
    "#ffmpeg -framerate 10 -i 3DScatter_mesa20_plus_%04d.jpeg 3DScatter_mesa20_pert_LR_plus_Movie.mp4"
   ]
  },
  {
   "cell_type": "markdown",
   "metadata": {},
   "source": [
    "## Mesa20_v_LR.dat Work"
   ]
  },
  {
   "cell_type": "markdown",
   "metadata": {},
   "source": [
    "t,Qxx,Qyy,Qxy,Qxz,Qyz,Qzz = loadDatQ(path, fNames_mensa20[3], colUse)"
   ]
  },
  {
   "cell_type": "markdown",
   "metadata": {},
   "source": [
    "polarPC = 0 #Polarization (0 = cross, 1 = plus)\n",
    "\n",
    "blockTitle = 'Normalized, Maximum Gravitational Wave Strain (Data: '+fNames_mensa20[3][:-4]+') ('+polarizationA[polarPC]+')'\n",
    "maxStrainScatterPlot('3DScatter_mesa20_cross_','AnimationRotateScatter/mesa20_v_LR_MaxStrain_3dScatter/', blockTitle, rotationArray = rA, polarization = polarPC, numberVerts = 100j)\n",
    "plt.clf()\n",
    "\n",
    "#ffmpeg -framerate 10 -i 3DScatter_mesa20_cross_%04d.jpeg 3DScatter_mesa20_v_LR_cross_Movie.mp4"
   ]
  },
  {
   "cell_type": "markdown",
   "metadata": {},
   "source": [
    "polarPC = 1 #Polarization (0 = cross, 1 = plus)\n",
    "\n",
    "blockTitle = 'Normalized, Maximum Gravitational Wave Strain (Data: '+fNames_mensa20[3][:-4]+') ('+polarizationA[polarPC]+')'\n",
    "maxStrainScatterPlot('3DScatter_mesa20_plus_','AnimationRotateScatter/mesa20_v_LR_MaxStrain_3dScatter/', blockTitle, rotationArray = rA, polarization = polarPC, numberVerts = 100j)\n",
    "plt.clf()\n",
    "\n",
    "#ffmpeg -framerate 10 -i 3DScatter_mesa20_plus_%04d.jpeg 3DScatter_mesa20_v_LR_plus_Movie.mp4"
   ]
  },
  {
   "cell_type": "markdown",
   "metadata": {},
   "source": [
    "## Mesa20_20b.dat"
   ]
  },
  {
   "cell_type": "markdown",
   "metadata": {},
   "source": [
    "t,Qxx,Qyy,Qxy,Qxz,Qyz,Qzz = loadDatQ(path, fNames_mensa20[4], colUse)"
   ]
  },
  {
   "cell_type": "markdown",
   "metadata": {},
   "source": [
    "polarPC = 0 #Polarization (0 = cross, 1 = plus, 2 = normDiff)\n",
    "\n",
    "blockTitle = 'Normalized, Maximum Gravitational Wave Strain (Data: '+fNames_mensa20[4][:-4]+') ('+polarizationA[polarPC]+')'\n",
    "maxStrainScatterPlot('3DScatter_mesa20_cross_','AnimationRotateScatter/mesa20_20b_MaxStrain_3dScatter/', blockTitle, rotationArray = rA, polarization = polarPC, numberVerts = 100j)\n",
    "plt.clf()\n",
    "\n",
    "#ffmpeg -framerate 10 -i 3DScatter_mesa20_cross_%04d.jpeg 3DScatter_mesa20_20b_cross_Movie.mp4"
   ]
  },
  {
   "cell_type": "markdown",
   "metadata": {},
   "source": [
    "polarPC = 1 #Polarization (0 = cross, 1 = plus, 2 = normDiff)\n",
    "\n",
    "blockTitle = 'Normalized, Maximum Gravitational Wave Strain (Data: '+fNames_mensa20[4][:-4]+') ('+polarizationA[polarPC]+')'\n",
    "maxStrainScatterPlot('3DScatter_mesa20_plus_','AnimationRotateScatter/mesa20_20b_MaxStrain_3dScatter/', blockTitle, rotationArray = rA, polarization = polarPC, numberVerts = 100j)\n",
    "plt.clf()\n",
    "\n",
    "#ffmpeg -framerate 10 -i 3DScatter_mesa20_plus_%04d.jpeg 3DScatter_mesa20_20b_plus_Movie.mp4"
   ]
  },
  {
   "cell_type": "markdown",
   "metadata": {},
   "source": [
    "## s40_3d_fr.dat"
   ]
  },
  {
   "cell_type": "code",
   "execution_count": 21,
   "metadata": {},
   "outputs": [],
   "source": [
    "t,Qxx,Qyy,Qxy,Qxz,Qyz,Qzz = loadDatQ(path, fNames_s40[0], colUse_s40)\n",
    "cenDiffYN = True"
   ]
  },
  {
   "cell_type": "code",
   "execution_count": 22,
   "metadata": {},
   "outputs": [
    {
     "data": {
      "text/plain": [
       "<Figure size 432x288 with 0 Axes>"
      ]
     },
     "metadata": {},
     "output_type": "display_data"
    }
   ],
   "source": [
    "polarPC = 0 #Polarization (0 = cross, 1 = plus, 2 = normDiff)\n",
    "\n",
    "blockTitle = 'Normalized, Maximum Gravitational Wave Strain (Data: '+fNames_s40[0][:-3]+') ('+polarizationA[polarPC]+')'\n",
    "maxStrainScatterPlot('3DScatter_s40_cross_','AnimationRotateScatter/s40_3d_fr_MaxStrain_3dScatter/', blockTitle, rotationArray = rA, polarization = polarPC, numberVerts = 100j, cenDiffYN=cenDiffYN)\n",
    "plt.clf()\n",
    "\n",
    "#ffmpeg -framerate 10 -i 3DScatter_s40_cross_%04d.jpeg 3DScatter_s40_3d_fr_cross_Movie.mp4"
   ]
  },
  {
   "cell_type": "code",
   "execution_count": 23,
   "metadata": {},
   "outputs": [
    {
     "data": {
      "text/plain": [
       "<Figure size 432x288 with 0 Axes>"
      ]
     },
     "metadata": {},
     "output_type": "display_data"
    }
   ],
   "source": [
    "polarPC = 1 #Polarization (0 = cross, 1 = plus, 2 = normDiff)\n",
    "\n",
    "blockTitle = 'Normalized, Maximum Gravitational Wave Strain (Data: '+fNames_s40[0][:-3]+') ('+polarizationA[polarPC]+')'\n",
    "maxStrainScatterPlot('3DScatter_s40_plus_','AnimationRotateScatter/s40_3d_fr_MaxStrain_3dScatter/', blockTitle, rotationArray = rA, polarization = polarPC, numberVerts = 100j)\n",
    "plt.clf()\n",
    "\n",
    "#ffmpeg -framerate 10 -i 3DScatter_s40_plus_%04d.jpeg 3DScatter_s40_3d_fr_plus_Movie.mp4"
   ]
  },
  {
   "cell_type": "markdown",
   "metadata": {},
   "source": [
    "## s40_3d_nor.dat"
   ]
  },
  {
   "cell_type": "code",
   "execution_count": 24,
   "metadata": {},
   "outputs": [],
   "source": [
    "t,Qxx,Qyy,Qxy,Qxz,Qyz,Qzz = loadDatQ(path, fNames_s40[1], colUse_s40)\n",
    "cenDiffYN = True"
   ]
  },
  {
   "cell_type": "code",
   "execution_count": 25,
   "metadata": {},
   "outputs": [
    {
     "data": {
      "text/plain": [
       "<Figure size 432x288 with 0 Axes>"
      ]
     },
     "metadata": {},
     "output_type": "display_data"
    }
   ],
   "source": [
    "polarPC = 0 #Polarization (0 = cross, 1 = plus, 2 = normDiff)\n",
    "\n",
    "blockTitle = 'Normalized, Maximum Gravitational Wave Strain (Data: '+fNames_s40[1][:-2]+') ('+polarizationA[polarPC]+')'\n",
    "maxStrainScatterPlot('3DScatter_s40_cross_','AnimationRotateScatter/s40_3d_nor_MaxStrain_3dScatter/', blockTitle, rotationArray = rA, polarization = polarPC, numberVerts = 100j, cenDiffYN=cenDiffYN)\n",
    "plt.clf()\n",
    "\n",
    "#ffmpeg -framerate 10 -i 3DScatter_s40_cross_%04d.jpeg 3DScatter_s40_3d_nor_cross_Movie.mp4"
   ]
  },
  {
   "cell_type": "code",
   "execution_count": 26,
   "metadata": {},
   "outputs": [
    {
     "data": {
      "text/plain": [
       "<Figure size 432x288 with 0 Axes>"
      ]
     },
     "metadata": {},
     "output_type": "display_data"
    }
   ],
   "source": [
    "polarPC = 1 #Polarization (0 = cross, 1 = plus, 2 = normDiff)\n",
    "\n",
    "blockTitle = 'Normalized, Maximum Gravitational Wave Strain (Data: '+fNames_s40[1][:-2]+') ('+polarizationA[polarPC]+')'\n",
    "maxStrainScatterPlot('3DScatter_s40_plus_','AnimationRotateScatter/s40_3d_nor_MaxStrain_3dScatter/', blockTitle, rotationArray = rA, polarization = polarPC, numberVerts = 100j)\n",
    "plt.clf()\n",
    "\n",
    "#ffmpeg -framerate 10 -i 3DScatter_s40_plus_%04d.jpeg 3DScatter_s40_3d_nor_plus_Movie.mp4"
   ]
  },
  {
   "cell_type": "markdown",
   "metadata": {},
   "source": [
    "## s40_3d_sr"
   ]
  },
  {
   "cell_type": "code",
   "execution_count": 27,
   "metadata": {},
   "outputs": [],
   "source": [
    "t,Qxx,Qyy,Qxy,Qxz,Qyz,Qzz = loadDatQ(path, fNames_s40[2], colUse_s40)\n",
    "cenDiffYN = True"
   ]
  },
  {
   "cell_type": "code",
   "execution_count": 28,
   "metadata": {},
   "outputs": [
    {
     "data": {
      "text/plain": [
       "<Figure size 432x288 with 0 Axes>"
      ]
     },
     "metadata": {},
     "output_type": "display_data"
    }
   ],
   "source": [
    "polarPC = 0 #Polarization (0 = cross, 1 = plus, 2 = normDiff)\n",
    "\n",
    "blockTitle = 'Normalized, Maximum Gravitational Wave Strain (Data: '+fNames_s40[2][:-2]+') ('+polarizationA[polarPC]+')'\n",
    "maxStrainScatterPlot('3DScatter_s40_cross_','AnimationRotateScatter/s40_3d_sr_MaxStrain_3dScatter/', blockTitle, rotationArray = rA, polarization = polarPC, numberVerts = 100j, cenDiffYN=cenDiffYN)\n",
    "plt.clf()\n",
    "\n",
    "#ffmpeg -framerate 10 -i 3DScatter_s40_cross_%04d.jpeg 3DScatter_s40_3d_sr_cross_Movie.mp4"
   ]
  },
  {
   "cell_type": "code",
   "execution_count": 29,
   "metadata": {},
   "outputs": [
    {
     "data": {
      "text/plain": [
       "<Figure size 432x288 with 0 Axes>"
      ]
     },
     "metadata": {},
     "output_type": "display_data"
    }
   ],
   "source": [
    "polarPC = 1 #Polarization (0 = cross, 1 = plus, 2 = normDiff)\n",
    "\n",
    "blockTitle = 'Normalized, Maximum Gravitational Wave Strain (Data: '+fNames_s40[2][:-2]+') ('+polarizationA[polarPC]+')'\n",
    "maxStrainScatterPlot('3DScatter_s40_plus_','AnimationRotateScatter/s40_3d_sr_MaxStrain_3dScatter/', blockTitle, rotationArray = rA, polarization = polarPC, numberVerts = 100j)\n",
    "plt.clf()\n",
    "\n",
    "#ffmpeg -framerate 10 -i 3DScatter_s40_plus_%04d.jpeg 3DScatter_s40_3d_sr_plus_Movie.mp4"
   ]
  },
  {
   "cell_type": "markdown",
   "metadata": {},
   "source": [
    "## Dipole Direction Plot Work"
   ]
  },
  {
   "cell_type": "code",
   "execution_count": null,
   "metadata": {},
   "outputs": [],
   "source": [
    "def maxStrainDipoleDirectionPlot(iterStepMV = 10, polarization = 0, numberVerts = 100j, norm = False):\n",
    "    iterStartMV = 0 #Iteration start\n",
    "    iterEndMV = len(t) #Iteration end\n",
    "    iterStepMV = iterStepMV #Iteration step\n",
    "    nVertsMV = numberVerts #n^(1/2) verts in spherical space\n",
    "\n",
    "    iterRangeMV = np.arange(iterStartMV,iterEndMV,iterStepMV) #Create iter array\n",
    "\n",
    "    sV_X, sV_Y, sV_Z, sV_R = strain3DSurfMaxValue(iterRangeMV, iterStepMV, nVertsMV, polarization = polarization) #sV_# -> strain value array (X,Y,Z,R)\n",
    "\n",
    "    sV_R_Pos = np.array([]) #Initialize empty array\n",
    "\n",
    "    sV_X_Flat = sV_X.reshape((len(sV_X),len(sV_X[0])**2)) #Flatten cord array to 2d array \n",
    "    sV_Y_Flat = sV_Y.reshape((len(sV_Y),len(sV_Y[0])**2)) #Flatten cord array to 2d array \n",
    "    sV_Z_Flat = sV_Z.reshape((len(sV_Z),len(sV_Z[0])**2)) #Flatten cord array to 2d array \n",
    "    sV_R_Flat = sV_R.reshape((len(sV_R),len(sV_R[0])**2)) #Flatten radius array to 2d array \n",
    "\n",
    "    sV_R_Pos = np.argmax(sV_R_Flat,axis=1) #Get max R value at each time\n",
    "\n",
    "    sV_X_MV = np.take_along_axis(sV_X_Flat, np.expand_dims(sV_R_Pos, axis=1),axis=1) #Get values associated with max R values at each time\n",
    "    sV_Y_MV = np.take_along_axis(sV_Y_Flat, np.expand_dims(sV_R_Pos, axis=1),axis=1) #Get values associated with max R values at each time\n",
    "    sV_Z_MV = np.take_along_axis(sV_Z_Flat, np.expand_dims(sV_R_Pos, axis=1),axis=1) #Get values associated with max R values at each time\n",
    "\n",
    "#     sV_XYZ_MV = hstack((sV_X_MV,sV_Y_MV,sV_Z_MV)) #Stack cord arrays \n",
    "    \n",
    "    if norm != False: \n",
    "        rPos = (sV_X_MV**2 + sV_Y_MV**2 + sV_Z_MV**2)**(1/2) #Get length of r\n",
    "        \n",
    "        sV_X_MV = sV_X_MV/rPos #Normalize x data\n",
    "        sV_Y_MV = sV_Y_MV/rPos #Normalize y data\n",
    "        sV_Z_MV = sV_Z_MV/rPos #Normalize z data\n",
    "\n",
    "    theta = np.arccos(sV_Z_MV/(np.sqrt((sV_X_MV**2)+(sV_Y_MV**2)+(sV_Z_MV**2))))\n",
    "    phi = np.arctan(sV_Y_MV/sV_X_MV)\n",
    "    \n",
    "    return(theta, phi)"
   ]
  },
  {
   "cell_type": "markdown",
   "metadata": {},
   "source": [
    "## Dipole Direction Fourier Transform Plot Work"
   ]
  },
  {
   "cell_type": "code",
   "execution_count": null,
   "metadata": {},
   "outputs": [],
   "source": [
    "def interpAngles(angle, time, lenVector):\n",
    "    '''\n",
    "    Interpolate Angles for frequency sampeling\n",
    "    Angle: Array of angles\n",
    "    Time: Array containing data time\n",
    "    lenVector: Frequency range\n",
    "    '''\n",
    "    angleReshape = np.reshape(angle, (len(angle)))\n",
    "    \n",
    "    fNew = scp.interpolate.interp1d(time,angleReshape) #Get interpolated angles\n",
    "    \n",
    "    times = linspace(time[0], time[-1], int(lenVector)) #Get times that will be used to sample fNew\n",
    "    \n",
    "    return(fNew(times))\n",
    "\n",
    "\n",
    "def noNan(inpArray, conVal = 0):\n",
    "    '''\n",
    "    Convert any nan values in an array to 0\n",
    "    '''\n",
    "    if np.sum(inpArray)==0:\n",
    "        return(inpArray)\n",
    "    \n",
    "    inpArray[np.isnan(inpArray)] = 0\n",
    "    \n",
    "    return(inpArray)\n",
    "\n",
    "\n",
    "def genSpectOutputs(N, rawTimeData, angle1 = 0, angle2 = 0):\n",
    "    '''\n",
    "    Generate spectrogram information for the dipole direction of GW\n",
    "    N: Frequency range uppler limit ??\n",
    "    rawTimeData: Raw time data \n",
    "    Angle1: Direction data\n",
    "    Angle2: Direction data (optional)\n",
    "    \n",
    "    outputs: (f1, t1, Sxx1, t2, f2, Sxx2)\n",
    "    '''\n",
    "    TimeArray = linspace(rawTimeData[0], rawTimeData[-1], int(N)) #Generate an evenly spaced array of times of length N\n",
    "    freqSample = N/(TimeArray[-1]) #Generate frequency sampling value\n",
    "    \n",
    "    f1, t1, Sxx1 = 0, 0, 0\n",
    "    if np.sum(angle1) != 0:\n",
    "        angle1 = noNan(angle1) #Convert any nan values in the array angle1 to 0\n",
    "\n",
    "        angle1Spec = interpAngles(angle1, time, N) #Time dependent angles information (interpolated)\n",
    "        f1, t1, Sxx1 = signal.spectrogram(angle1Spec, freqSample) #Generate Spectrogram info\n",
    "\n",
    "    f2, t2, Sxx2 = 0, 0, 0\n",
    "    if np.sum(angle2) != 0:\n",
    "        angle2 = noNan(angle2) #Convert any nan values in the array angle2 to 0\n",
    "        \n",
    "        angle2Spec = interpAngles(angle2, time, N) #Time dependent angles information (interpolated)\n",
    "        f2, t2, Sxx2 = signal.spectrogram(angle2Spec, freqSample) #Generate Spectrogram info\n",
    "    \n",
    "    return([f1, t1, Sxx1, f2, t2, Sxx2])"
   ]
  },
  {
   "cell_type": "code",
   "execution_count": null,
   "metadata": {},
   "outputs": [],
   "source": [
    "def dipoleDirecPlots(dataTime, dataTheta, dataPhi = 0, N = 0, specYesNo = 0, dataUsed = '', fileName = ''):\n",
    "    '''\n",
    "    Generate plots of data to analyse dipole direction of GW\n",
    "    dataTime: data time component\n",
    "    dataTheta: data theta component\n",
    "    dataPhi: data phi component\n",
    "    dataUsed: Model name data is used from\n",
    "    '''\n",
    "    fntSize = 25 #Fontsize for all plots\n",
    "    legendSize = 25\n",
    "    \n",
    "    fig = plt.figure(figsize = (40,20))\n",
    "    axSV_MV_A1 = fig.add_subplot(411)\n",
    "    \n",
    "    axSV_MV_A1.plot(dataTime, dataTheta, c = 'blue', label = r'$\\theta$')\n",
    "    axSV_MV_A1.tick_params(axis='both', which='major', labelsize=fntSize/2)\n",
    "    axSV_MV_A1.set_title(dataUsed + ' : theta', fontsize = fntSize)\n",
    "    #axSV_MV_A1.legend(prop = {'size':legendSize})\n",
    "    axSV_MV_A1.grid()\n",
    "    \n",
    "    titleF = 'Fourier Transform of:' + dataUsed\n",
    "    \n",
    "    if specYesNo !=0:\n",
    "        f1, t1, Sxx1 = genSpectOutputs(N, dataTime, angle1 = dataTheta)[:3]\n",
    "        \n",
    "        axSV_MV_F1 = fig.add_subplot(412, sharex = axSV_MV_A1)\n",
    "        \n",
    "        titleF = 'Spectrogram (' + dataUsed + ' : theta)'\n",
    "        \n",
    "        axSV_MV_F1.pcolormesh(t1, f1, Sxx1, shading='gouraud')\n",
    "        axSV_MV_F1.grid()\n",
    "        axSV_MV_F1.tick_params(axis='both', which='major', labelsize=fntSize/2)\n",
    "        axSV_MV_F1.set_ylabel('Frequency [Hz]', fontsize = fntSize)\n",
    "        axSV_MV_F1.set_xlabel('Time [sec]', fontsize = fntSize)\n",
    "        axSV_MV_F1.set_title(titleF, fontsize = fntSize)\n",
    "        axSV_MV_F1.set_ylim(0,3500)\n",
    "        \n",
    "    if dataPhi.any() != 0:\n",
    "        \n",
    "        if specYesNo == 0:\n",
    "            axSV_MV_A2 = fig.add_subplot(412)\n",
    "            \n",
    "        else:\n",
    "            axSV_MV_A2 = fig.add_subplot(413)\n",
    "        \n",
    "        axSV_MV_A2.plot(dataTime, dataPhi, c = 'red', label = '$\\phi$')\n",
    "        axSV_MV_A2.tick_params(axis='both', which='major', labelsize=fntSize/2)\n",
    "        axSV_MV_A2.set_title(dataUsed + ' : phi', fontsize = fntSize)\n",
    "        #axSV_MV_A2.legend(prop = {'size':legendSize})\n",
    "        axSV_MV_A2.grid()\n",
    "        \n",
    "        if specYesNo != 0:\n",
    "            f2, t2, Sxx2 = genSpectOutputs(N, dataTime, angle2 = dataPhi)[3:]\n",
    "            \n",
    "            axSV_MV_F2 = fig.add_subplot(414, sharex = axSV_MV_A2)\n",
    "            \n",
    "            titleF = 'Spectrogram (' + dataUsed + ' : phi)'\n",
    "            \n",
    "            axSV_MV_F2.pcolormesh(t2, f2, Sxx2, shading='gouraud')\n",
    "            axSV_MV_F2.grid()\n",
    "            axSV_MV_F2.tick_params(axis='both', which='major', labelsize=fntSize/2)\n",
    "            axSV_MV_F2.set_ylabel('Frequency [Hz]', fontsize = fntSize)\n",
    "            axSV_MV_F2.set_xlabel('Time [sec]', fontsize = fntSize)\n",
    "            axSV_MV_F2.set_title(titleF, fontsize = fntSize)\n",
    "            axSV_MV_F2.set_ylim(0,3500)\n",
    "        \n",
    "    fig.tight_layout()\n",
    "\n",
    "    path = r'C:\\Users\\crazy\\PajkosResearch\\DipoleSpectrograms'\n",
    "    \n",
    "    fig.savefig(path + fileName + '.jpeg')\n",
    "    \n",
    "    return()"
   ]
  },
  {
   "cell_type": "code",
   "execution_count": null,
   "metadata": {},
   "outputs": [],
   "source": [
    "#Data read info\n",
    "path = r'C:\\Users\\crazy\\PajkosResearch\\RawDataFiles'\n",
    "\n",
    "fNames_mensa20 = np.array(['mesa20_LR.dat','mesa20_pert.dat','mesa20_pert_LR.dat','mesa20_v_LR.dat','mesa20b.dat'])\n",
    "fNames_s40 = np.array(['s40_3d_fr.dat','s40_3d_nor.dat','s40_3d_sr.dat'])\n",
    "\n",
    "colUse = [0, 45, 47, 46, 48, 49, 50] #Coloumns where data is read from (for mesa20 data)\n",
    "colUse_s40 = [0, 49, 50, 51, 52, 53, 54] #Coloumns where data is read from (for s40 data)\n",
    "\n",
    "polarizationA = np.array(['cross-polarized','plus-polarized','normDiff-polarized']) #Polarization of the data\n",
    "\n",
    "rA = np.arange(0,360,2) #Rotation array (start,end,step) (degrees)\n",
    "\n",
    "polarPC = 1 #Polarization (0 = cross, 1 = plus)\n",
    "\n",
    "N = 13e3 #Sampled points\n",
    "\n",
    "yNSpecs = 1 #Produce spectrograms? 1 = yes, !1 = no"
   ]
  },
  {
   "cell_type": "markdown",
   "metadata": {},
   "source": [
    "### mesa20_LR.dat Dipole Work"
   ]
  },
  {
   "cell_type": "code",
   "execution_count": null,
   "metadata": {},
   "outputs": [],
   "source": [
    "dataUsed = fNames_mensa20[0]\n",
    "tD_Step = 5 #TimeData_Step for which the data is iterated through\n",
    "\n",
    "t,Qxx,Qyy,Qxy,Qxz,Qyz,Qzz = loadDatQ(path, dataUsed, colUse)\n",
    "theta, phi = maxStrainDipoleDirectionPlot(iterStepMV = tD_Step,norm = True)\n",
    "time = t[0:-1:tD_Step]"
   ]
  },
  {
   "cell_type": "code",
   "execution_count": null,
   "metadata": {
    "scrolled": true
   },
   "outputs": [],
   "source": [
    "pathFileDip = '\\Imgs_' + dataUsed + '\\Img_' + dataUsed \n",
    "\n",
    "dipoleDirecPlots(time, theta, phi, N, yNSpecs, dataUsed, pathFileDip)\n",
    "dipoleDirecPlots(time, np.cos(theta), np.cos(phi), N, yNSpecs, 'cos : ' + dataUsed, pathFileDip + '_cos')\n",
    "dipoleDirecPlots(time, np.sin(theta), np.sin(phi), N, yNSpecs, 'sin : ' + dataUsed, pathFileDip + '_sin')"
   ]
  },
  {
   "cell_type": "markdown",
   "metadata": {},
   "source": [
    "## mesa20_pert.dat Dipole Work"
   ]
  },
  {
   "cell_type": "code",
   "execution_count": null,
   "metadata": {},
   "outputs": [],
   "source": [
    "dataUsed = fNames_mensa20[1]\n",
    "tD_Step = 10 #TimeData_Step for which the data is iterated through\n",
    "\n",
    "t,Qxx,Qyy,Qxy,Qxz,Qyz,Qzz = loadDatQ(path, dataUsed, colUse)\n",
    "theta, phi = maxStrainDipoleDirectionPlot(iterStepMV = tD_Step,norm = True)\n",
    "time = t[0:-1:tD_Step]"
   ]
  },
  {
   "cell_type": "code",
   "execution_count": null,
   "metadata": {
    "scrolled": true
   },
   "outputs": [],
   "source": [
    "pathFileDip = '\\Imgs_' + dataUsed + '\\Img_' + dataUsed \n",
    "\n",
    "dipoleDirecPlots(time, theta, phi, N, yNSpecs, dataUsed, pathFileDip)\n",
    "dipoleDirecPlots(time, np.cos(theta), np.cos(phi), N, yNSpecs, 'cos : ' + dataUsed, pathFileDip + '_cos')\n",
    "dipoleDirecPlots(time, np.sin(theta), np.sin(phi), N, yNSpecs, 'sin : ' + dataUsed, pathFileDip + '_sin')"
   ]
  },
  {
   "cell_type": "markdown",
   "metadata": {},
   "source": [
    "### mesa20_pert_LR.dat Dipole Work"
   ]
  },
  {
   "cell_type": "code",
   "execution_count": null,
   "metadata": {},
   "outputs": [],
   "source": [
    "dataUsed = fNames_mensa20[2]\n",
    "tD_Step = 10 #TimeData_Step for which the data is iterated through\n",
    "\n",
    "t,Qxx,Qyy,Qxy,Qxz,Qyz,Qzz = loadDatQ(path, dataUsed, colUse)\n",
    "theta, phi = maxStrainDipoleDirectionPlot(iterStepMV = tD_Step,norm = True)\n",
    "time = t[0:-1:tD_Step]"
   ]
  },
  {
   "cell_type": "code",
   "execution_count": null,
   "metadata": {
    "scrolled": true
   },
   "outputs": [],
   "source": [
    "pathFileDip = '\\Imgs_' + dataUsed + '\\Img_' + dataUsed \n",
    "\n",
    "dipoleDirecPlots(time, theta, phi, N, yNSpecs, dataUsed, pathFileDip)\n",
    "dipoleDirecPlots(time, np.cos(theta), np.cos(phi), N, yNSpecs, 'cos : ' + dataUsed, pathFileDip + '_cos')\n",
    "dipoleDirecPlots(time, np.sin(theta), np.sin(phi), N, yNSpecs, 'sin : ' + dataUsed, pathFileDip + '_sin')"
   ]
  },
  {
   "cell_type": "markdown",
   "metadata": {},
   "source": [
    "### mesa20_v_LR.dat Dipole Work"
   ]
  },
  {
   "cell_type": "code",
   "execution_count": null,
   "metadata": {},
   "outputs": [],
   "source": [
    "dataUsed = fNames_mensa20[3]\n",
    "tD_Step = 10 #TimeData_Step for which the data is iterated through\n",
    "\n",
    "t,Qxx,Qyy,Qxy,Qxz,Qyz,Qzz = loadDatQ(path, dataUsed, colUse)\n",
    "theta, phi = maxStrainDipoleDirectionPlot(iterStepMV = tD_Step,norm = True)\n",
    "time = t[0:-1:tD_Step]"
   ]
  },
  {
   "cell_type": "code",
   "execution_count": null,
   "metadata": {
    "scrolled": true
   },
   "outputs": [],
   "source": [
    "pathFileDip = '\\Imgs_' + dataUsed + '\\Img_' + dataUsed \n",
    "\n",
    "dipoleDirecPlots(time, theta, phi, N, yNSpecs, dataUsed, pathFileDip)\n",
    "dipoleDirecPlots(time, np.cos(theta), np.cos(phi), N, yNSpecs, 'cos : ' + dataUsed, pathFileDip + '_cos')\n",
    "dipoleDirecPlots(time, np.sin(theta), np.sin(phi), N, yNSpecs, 'sin : ' + dataUsed, pathFileDip + '_sin')"
   ]
  },
  {
   "cell_type": "markdown",
   "metadata": {},
   "source": [
    "### mesa20b.dat Dipole Work"
   ]
  },
  {
   "cell_type": "code",
   "execution_count": null,
   "metadata": {},
   "outputs": [],
   "source": [
    "dataUsed = fNames_mensa20[4]\n",
    "tD_Step = 10 #TimeData_Step for which the data is iterated through\n",
    "\n",
    "t,Qxx,Qyy,Qxy,Qxz,Qyz,Qzz = loadDatQ(path, dataUsed, colUse)\n",
    "theta, phi = maxStrainDipoleDirectionPlot(iterStepMV = tD_Step,norm = True)\n",
    "time = t[0:-1:tD_Step]"
   ]
  },
  {
   "cell_type": "code",
   "execution_count": null,
   "metadata": {
    "scrolled": true
   },
   "outputs": [],
   "source": [
    "pathFileDip = '\\Imgs_' + dataUsed + '\\Img_' + dataUsed \n",
    "\n",
    "dipoleDirecPlots(time, theta, phi, N, yNSpecs, dataUsed, pathFileDip)\n",
    "dipoleDirecPlots(time, np.cos(theta), np.cos(phi), N, yNSpecs, 'cos : ' + dataUsed, pathFileDip + '_cos')\n",
    "dipoleDirecPlots(time, np.sin(theta), np.sin(phi), N, yNSpecs, 'sin : ' + dataUsed, pathFileDip + '_sin')"
   ]
  },
  {
   "cell_type": "markdown",
   "metadata": {},
   "source": [
    "## Mesa20_LR.dat Normalized Difference Work"
   ]
  },
  {
   "cell_type": "code",
   "execution_count": null,
   "metadata": {},
   "outputs": [],
   "source": [
    "#Data read info\n",
    "#Data read info\n",
    "path = r'C:\\Users\\crazy\\PajkosResearch\\RawDataFiles'\n",
    "\n",
    "fNames_mensa20 = np.array(['mesa20_LR.dat','mesa20_pert.dat','mesa20_pert_LR.dat','mesa20_v_LR.dat','mesa20b.dat'])\n",
    "fNames_s40 = np.array(['s40_3d_fr.dat','s40_3d_nor.dat','s40_3d_sr.dat'])\n",
    "\n",
    "colUse = [0, 45, 47, 46, 48, 49, 50] #Coloumns where data is read from (for mesa20 data)\n",
    "colUse_s40 = [0, 49, 50, 51, 52, 53, 54] #Coloumns where data is read from (for s40 data)\n",
    "\n",
    "polarizationA = np.array(['cross-polarized','plus-polarized','normDiff-polarized']) #Polarization of the data\n",
    "\n",
    "rA = np.arange(0,360,2) #Rotation array (start,end,step) (degrees)\n",
    "\n",
    "polarPC = 1 #Polarization (0 = cross, 1 = plus)"
   ]
  },
  {
   "cell_type": "code",
   "execution_count": null,
   "metadata": {},
   "outputs": [],
   "source": [
    "t,Qxx,Qyy,Qxy,Qxz,Qyz,Qzz = loadDatQ(path, fNames_mensa20[0], colUse)"
   ]
  },
  {
   "cell_type": "code",
   "execution_count": null,
   "metadata": {},
   "outputs": [],
   "source": [
    "polarPC = 2 #Polarization (0 = cross, 1 = plus, 2 = normDiff)\n",
    "nVertices = 100j\n",
    "nTF = True #Normalize the xyz coordinates\n",
    "dSlice = (0.1,0.3) #Times to slice over\n",
    "\n",
    "blockTitle = 'Normalized, Maximum Gravitational Wave Strain (Data: '+fNames_mensa20[0][:-4]+') ('+polarizationA[polarPC]+')'\n",
    "maxStrainScatterPlot('3DScatter_mesa20_normDiff_','AnimationRotateScatter/mesa20_LR_MaxStrain_NormDiff_3dScatter/',\n",
    "                     blockTitle, rotationArray = rA, polarization = polarPC, numberVerts = nVertices, norm = nTF, \n",
    "                     dataSlice = dSlice)\n",
    "plt.clf()\n",
    "\n",
    "#ffmpeg -framerate 10 -i 3DScatter_mesa20_normDiff_%04d.jpeg 3DScatter_mesa20_LR_normDiff_Movie.mp4"
   ]
  },
  {
   "cell_type": "code",
   "execution_count": null,
   "metadata": {},
   "outputs": [],
   "source": [
    "dataSlice = (0.1,0.2)\n",
    "print(int(np.where(t == t[(t >= dataSlice[0]) & (t <= dataSlice[1])][0])[0]))\n",
    "print(int(np.where(t == t[(t >= dataSlice[0]) & (t <= dataSlice[1])][-1])[0]))"
   ]
  },
  {
   "cell_type": "code",
   "execution_count": null,
   "metadata": {},
   "outputs": [],
   "source": []
  }
 ],
 "metadata": {
  "kernelspec": {
   "display_name": "Python 3",
   "language": "python",
   "name": "python3"
  },
  "language_info": {
   "codemirror_mode": {
    "name": "ipython",
    "version": 3
   },
   "file_extension": ".py",
   "mimetype": "text/x-python",
   "name": "python",
   "nbconvert_exporter": "python",
   "pygments_lexer": "ipython3",
   "version": "3.8.5"
  }
 },
 "nbformat": 4,
 "nbformat_minor": 4
}
