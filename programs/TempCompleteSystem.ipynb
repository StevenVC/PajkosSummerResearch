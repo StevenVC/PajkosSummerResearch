{
 "cells": [
  {
   "cell_type": "code",
   "execution_count": 1,
   "metadata": {},
   "outputs": [],
   "source": [
    "import TempCompleteFunctions as tpc\n",
    "import numpy as np\n",
    "import matplotlib.pyplot as plt\n",
    "import matplotlib.colors as colors"
   ]
  },
  {
   "cell_type": "markdown",
   "metadata": {},
   "source": [
    "## To Do:\n",
    "- Add angle modification functionality to spectrogram method\n",
    "    - cos,sin\n",
    "- Find different trig function that avoids nans for phi"
   ]
  },
  {
   "cell_type": "code",
   "execution_count": 2,
   "metadata": {},
   "outputs": [],
   "source": [
    "class GWAnalysis:\n",
    "    '''\n",
    "    Tool for analizing gravitational waves\n",
    "    '''\n",
    "    \n",
    "    def __init__(self, dataPath, dataFile, dataColumns, timeSample = 0, timeStep = 5, tBounce = 0, nVerts = 5):\n",
    "        '''\n",
    "        dataPath: relative path to the main repository of the data/program\n",
    "        dataFile: file name\n",
    "        dataColumns: list of columns numbers that reference the data in the file [t,Qxx,Qyy,Qxy,Qxz,Qyz,Qzz]\n",
    "        timeSample: range of times to work through when analizing data, set as list [start time index, end time index]\n",
    "        timeStep: time step to take when analizing data\n",
    "        tBounce: post bounce time [s]\n",
    "        nVerts: number of vertecies/points to use when interpreting angle information\n",
    "        '''\n",
    "        #Import neccesary packages to the correct namespace\n",
    "        import numpy as np\n",
    "        import TempCompleteFunctions as tpc\n",
    "        import matplotlib.pyplot as plt\n",
    "        import matplotlib.colors as colors\n",
    "        \n",
    "        if isinstance(nVerts, complex) == False:\n",
    "            raise ValueError('nVerts must be entered as a complex number (ex: 10j), please enter a new value!')\n",
    "        \n",
    "        if nVerts.imag < 10j.imag:\n",
    "            raise ValueError('nVerts can not be less than 10, please enter a new value!')\n",
    "        \n",
    "        #Set attributes\n",
    "        self.dataPath = dataPath\n",
    "        self.dataFile = dataFile\n",
    "        self.dataColumns = dataColumns\n",
    "        self.timeSample = timeSample\n",
    "        self.timeStep = timeStep\n",
    "        self.tBounce = tBounce\n",
    "        self.nVerts = nVerts\n",
    "        \n",
    "    def update_TimeStep(self, timeStep):\n",
    "        '''\n",
    "        Update the value for timeStep\n",
    "        \n",
    "        timeStep: time step to take when analizing data\n",
    "        '''\n",
    "        self.timeStep = timeStep\n",
    "    \n",
    "    def update_nVerts(self, nVerts):\n",
    "        '''\n",
    "        Update the value for nVerts\n",
    "        \n",
    "        nVerts: number of vertecies/points to use when interpreting angle information,\n",
    "                must be complex number 10 or greater\n",
    "        '''\n",
    "        #Check if value is complex\n",
    "        if isinstance(nVerts, complex) == False:\n",
    "            raise ValueError('nVerts must be entered as a complex number (ex: 10j), please enter a new value!')\n",
    "        \n",
    "        #Check if value is greater than or equal to 10j\n",
    "        if nVerts.imag < 10j.imag:\n",
    "            raise ValueError('nVerts can not be less than 10, please enter a new value!')\n",
    "\n",
    "        self.nVerts = nVerts\n",
    "        \n",
    "        print('The number of verticies or points has been updated to', self.nVerts)\n",
    "    \n",
    "    def update_timeSample(self, timeSample):\n",
    "        '''\n",
    "        Update the value for timeSample\n",
    "        \n",
    "        timeSample: range of times to work through when analizing data, set as list [start time, end time, step through]\n",
    "        '''\n",
    "        self.timeSample = timeSample\n",
    "        \n",
    "    def load_QuadData(self, dataFolder = 0):\n",
    "        '''\n",
    "        Load and store data\n",
    "        \n",
    "        dataFolder: name of folder where data is stored\n",
    "        '''\n",
    "        #Check if the data file is stored in a folder or not, create the correct filePath\n",
    "        if dataFolder != 0:\n",
    "            filePath = self.dataPath + '\\\\' + dataFolder + '\\\\' + self.dataFile\n",
    "        \n",
    "        else:\n",
    "            filePath = self.dataPath + '\\\\' + self.dataFile\n",
    "        \n",
    "        #Load in the data associated with the file and the specified columns\n",
    "        t,Qxx,Qyy,Qxy,Qxz,Qyz,Qzz = np.loadtxt(filePath, usecols = (self.dataColumns), unpack=True)\n",
    "    \n",
    "        self.rawTime = t\n",
    "        self.rawData = np.array([Qxx,Qyy,Qxy,Qxz,Qyz,Qzz])\n",
    "        \n",
    "        #Update timeSample\n",
    "        self.update_timeSample(np.arange(0,len(self.rawTime),self.timeStep))\n",
    "        \n",
    "    def set_rawDataHeaders(self, dataHeaders):\n",
    "        '''\n",
    "        Save headers for the raw data\n",
    "        \n",
    "        dataHeaders: list of headers equal in length to rawData\n",
    "        '''\n",
    "        self.dataHeaders = dataHeaders\n",
    "        \n",
    "#     def strain3dSurfMaxValue(self, polarization, angles = [0,np.pi,0,2*np.pi]):\n",
    "#         '''\n",
    "#         Get the x,y,z values of strain ploted onto a 3d sphere ??\n",
    "        \n",
    "#         polarization: setting for which polarization to use, (0 = cross, 1 = plus, 2 = norm diff)\n",
    "#         angles: angles to use in h calculations ([theta_0,theta,phi_0,phi] Domain: Theta:[0,pi] Phi:[0,2pi])\n",
    "#         '''\n",
    "#         #theta - altitudinal angle [radians]\n",
    "#         #phi   - azimuthal angle  [radians]\n",
    "#         thetaPhi = np.mgrid[angles[0]:angles[1]:self.nVerts, angles[2]:angles[3]:self.nVerts] #Define angles to use when calculating h\n",
    "        \n",
    "#         analysisTime = self.rawTime[self.timeSample]\n",
    "        \n",
    "#         QddotXX = tpc.cenDiff(analysisTime,self.rawData[0][self.timeSample])\n",
    "#         QddotYY = tpc.cenDiff(analysisTime,self.rawData[1][self.timeSample])\n",
    "#         QddotXY = tpc.cenDiff(analysisTime,self.rawData[2][self.timeSample])\n",
    "#         QddotXZ = tpc.cenDiff(analysisTime,self.rawData[3][self.timeSample])\n",
    "#         QddotYZ = tpc.cenDiff(analysisTime,self.rawData[4][self.timeSample])\n",
    "#         QddotZZ = tpc.cenDiff(analysisTime,self.rawData[5][self.timeSample])\n",
    "        \n",
    "#         if polarization == 0: \n",
    "#             hVals = tpc.crossGeneral(thetaPhi[0],thetaPhi[1],analysisTime,QddotXX,QddotYY,QddotXY,QddotXZ,QddotYZ,CenDiff=False)\n",
    "\n",
    "#         elif polarization == 1:\n",
    "#             hVals = tpc.plusGeneral(thetaPhi[0],thetaPhi[1],analysisTime,QddotXX,QddotYY,QddotXY,QddotXZ,QddotYZ,QddotZZ,CenDiff=False)\n",
    "\n",
    "#         elif polarization == 2:\n",
    "#             hVals = tpc.normDiffGeneral(thetaPhi[0],thetaPhi[1],analysisTime,QddotXX,QddotYY,QddotXY,QddotXZ,QddotYZ,QddotZZ,CenDiff=False)\n",
    "\n",
    "#         else:\n",
    "#             print('Correct the value given for polarization (0 = cross, 1 = plus, 2 = norm diff)!!')\n",
    "#             return()\n",
    "        \n",
    "#         '''\n",
    "#         Get confirmation for these conversions\n",
    "#         '''\n",
    "#         xSph = hVals * np.sin(thetaPhi[0]) * np.cos(thetaPhi[1])\n",
    "#         ySph = hVals * np.sin(thetaPhi[0]) * np.sin(thetaPhi[1])\n",
    "#         zSph = hVals * np.cos(thetaPhi[0])\n",
    "\n",
    "#         return(xSph,ySph,zSph,hVals)\n",
    "           \n",
    "    def GW2dAnalysis(self, polarization, angles = [0,np.pi,0,2*np.pi], graphSize = [10,10], xlim = [0,0], ylim = [0,0]):\n",
    "        '''\n",
    "        \n",
    "        polarization: setting for which polarization to use, (0 = cross, 1 = plus, 2 = norm diff)\n",
    "        angles: angles to use in h calculations ([theta_0,theta,phi_0,phi] Domain: Theta:[0,pi] Phi:[0,2pi])\n",
    "        graphSize: size of the image produced, list [width, height]\n",
    "        xlim: x-axis limits for the graph, list [left bound, right bound]\n",
    "        ylim: y-axis limits for the graph, list [lower bound, upper bound]\n",
    "        '''\n",
    "        #Data acquisition\n",
    "        tempH = tpc.strain3dSurfMaxValue(self, polarization, angles)[3] #Only grab hVals\n",
    "\n",
    "        tempH = tempH[:,4,0]# simplification/generalization of tempH = tempH.reshape(len(self.timeSample))\n",
    "        \n",
    "        #Plotting\n",
    "        fig, ax = plt.subplots(1)\n",
    "        fig.set_size_inches(graphSize[0],graphSize[1])\n",
    "\n",
    "        ax.plot(self.rawTime[self.timeSample]-self.tBounce, tempH) \n",
    "        ax.axvline(0, c='black', label = 'Post Bounce Time: ' + str(self.tBounce), alpha = 0.5)\n",
    "\n",
    "        #Check if the limits are set by the user or not\n",
    "        if xlim != [0,0]:\n",
    "            ax.set_xlim(xlim)\n",
    "        else:\n",
    "            ax.set_xlim([-0.05,self.rawTime[-1]-self.tBounce+0.05])\n",
    "\n",
    "        if ylim != [0,0]:\n",
    "            ax.set_ylim(ylim)\n",
    "            \n",
    "        ax.set_title('GW Strain Vs Post Bounce Time ('+  self.dataFile +')')\n",
    "        ax.set_xlabel('Time (s)')\n",
    "        ax.legend()\n",
    "        \n",
    "#         attachedDataFR = np.loadtxt('RawDataFiles/s40_fr_GW_short.txt')\n",
    "\n",
    "#         ax.plot(attachedDataFR[:,0], attachedDataFR[:,1], color = 'red')\n",
    "\n",
    "#         ax.set_xlabel('Time (s)')\n",
    "        \n",
    "        \n",
    "    def genScatterPlot(self, cord_XYZ_Set, prefix, path, title, rotationArray, analysisTime, norm = False, dataSlice = (0,2), alpha = 0.8): \n",
    "        '''\n",
    "        Check if timeIt is needed here\n",
    "            Check to see if its the same length as xSet\n",
    "            \n",
    "        cord_XYZ_Set: array of cordinates x,y,z with shape [3,n] where n is the number of samples\n",
    "        prefix: generated image filename prefix\n",
    "        path: path from working directory to where generated image files should be stored (end with /)\n",
    "        title: title of the generated plot\n",
    "        rotationArray: array of degrees to rotate through when generating the images for the animation\n",
    "        analysisTime: \n",
    "        norm: conditional, whether to normalize the plotted data or not\n",
    "        dataSlice: tuple indicating what times (between the values) from the data will be plotted\n",
    "        alpha: alpha level to plot data points at\n",
    "        '''\n",
    "\n",
    "        #Unpack cord values (using .flatten on sliced object)\n",
    "        xSet, ySet, zSet = cord_XYZ_Set[:,0], cord_XYZ_Set[:,1], cord_XYZ_Set[:,2]\n",
    "\n",
    "        if norm == True: \n",
    "            rPos = (xSet**2 + ySet**2 + zSet**2)**(1/2) #Get length of r\n",
    "\n",
    "            xSet = xSet/rPos #Normalize x data\n",
    "            ySet = ySet/rPos #Normalize y data\n",
    "            zSet = zSet/rPos #Normalize z data\n",
    "\n",
    "        count = 0\n",
    "        newLen = len(xSet[dataSlice[0]:dataSlice[1]]) #Length of the data after slicing with dataSliceVals\n",
    "\n",
    "        colorMapName = 'viridis'\n",
    "        colorMap = plt.get_cmap(colorMapName) #cmap to use\n",
    "        new_cmap = tpc.truncate_colormap(colorMap, dataSlice[0]/(len(xSet)),\n",
    "                                    dataSlice[1]/(len(xSet)), newLen) #New cmap generated from dataSliceVals and colorMap\n",
    "        \n",
    "        for i in rotationArray: #Redraw plot and savefig\n",
    "            fig = plt.figure(figsize = (15,15))\n",
    "            axSV_MV = fig.add_subplot(111, projection='3d')\n",
    "            \n",
    "            xPlot = xSet[dataSlice[0]:dataSlice[1]]\n",
    "            yPlot = ySet[dataSlice[0]:dataSlice[1]]\n",
    "            zPlot = zSet[dataSlice[0]:dataSlice[1]]\n",
    "    \n",
    "            '''\n",
    "            The following code snippet is used to mask parts of the data\n",
    "            In this case only the positive elements along the x-axis\n",
    "            '''\n",
    "    #         maskXPositive = xPlot > 0\n",
    "\n",
    "    #         xPlot = xPlot[maskXPositive]\n",
    "    #         yPlot = yPlot[maskXPositive]\n",
    "    #         zPlot = zPlot[maskXPositive]\n",
    "\n",
    "    #         newLen = len(xPlot)\n",
    "\n",
    "            sc = axSV_MV.scatter(xPlot, yPlot, zPlot, \n",
    "                                 c = np.linspace(dataSlice[0], dataSlice[1], newLen), \n",
    "                                 cmap = new_cmap, s = 60, edgecolors = 'black', alpha = alpha)\n",
    "\n",
    "            axSV_MV.view_init(elev=0, azim=i) #Change view parameters (spin along the azimuth)\n",
    "\n",
    "            axSV_MV.set_xlabel('x', fontsize = 15) #Assign label\n",
    "            axSV_MV.set_ylabel('y', fontsize = 15) #Assign label\n",
    "            axSV_MV.set_zlabel('z', fontsize = 15) #Assign label\n",
    "\n",
    "            axSV_MV.set_title(title, y=0.95, fontsize=15)\n",
    "            \n",
    "#             axSV_MV.set_box_aspect((1,1,1))\n",
    "            xLim = axSV_MV.get_xlim()\n",
    "    \n",
    "            axSV_MV.set_ylim(xLim)\n",
    "#             axSV_MV.set_zlim(xLim)\n",
    "            \n",
    "            figNorm = colors.Normalize(self.rawTime[0],self.rawTime[-1]) # map time data to colorbar (https://bit.ly/3lnV0VR)\n",
    "            cBar = fig.colorbar(plt.cm.ScalarMappable(norm = figNorm, cmap = colorMapName), ax = axSV_MV, shrink=0.5) #Add color bar to axes = axSV_MV\n",
    "            cBar.set_label('Time(s)', fontsize = 15)\n",
    "\n",
    "            i_str = str(count)\n",
    "            suffix = i_str.rjust(4,'0')\n",
    "            fig.savefig(path + prefix + suffix + '.jpeg')\n",
    "            fig.clear()\n",
    "            plt.close(fig)\n",
    "            count += 1\n",
    "        \n",
    "    def maxStrainScatterPlot(self, prefix, path, outputFileName, title, polarization = 0, angles = [0,np.pi,0,2*np.pi], norm = False, rotationArray = np.arange(0,90,1), dataSlice = (0,0)):\n",
    "        '''\n",
    "        \n",
    "        prefix: generated image filename prefix\n",
    "        path: path from working directory to where generated image files should be stored (end with /)\n",
    "        title: title of the generated plot\n",
    "        polarization: setting for which polarization to use, (0 = cross, 1 = plus, 2 = norm diff)\n",
    "        angles: angles to use in h calculations ([theta_0,theta,phi_0,phi] Domain: Theta:[0,pi] Phi:[0,2pi])\n",
    "        norm: conditional, whether to normalize the plotted data or not\n",
    "        rotationArray: array of degrees to rotate through when generating the images for the animation\n",
    "        dataSlice: tuple indicating what times (between the values) from the data will be plotted\n",
    "        '''\n",
    "        if dataSlice == (0,0):\n",
    "            dataSlice = (self.rawTime[0],self.rawTime[-1])\n",
    "        \n",
    "        title += ' (Data: '+ self.dataFile +')'\n",
    "        \n",
    "        if polarization == 0:\n",
    "            title += ' (cross-polarized)'\n",
    "        elif polarization == 1:\n",
    "            title += ' (plus-polarized)'\n",
    "        elif polarization == 2:\n",
    "            title += ' (normalized difference)'\n",
    "        else:\n",
    "            title += ' (ERROR-polarization)'\n",
    "            \n",
    "        if norm == True:\n",
    "            title += ' (normalized)'\n",
    "        else:\n",
    "            title += ' (un-normalized)'\n",
    "            \n",
    "        analysisTime = self.rawTime[self.timeSample] #Sampled time\n",
    "        \n",
    "        sV_X, sV_Y, sV_Z, sV_HR = tpc.strain3dSurfMaxValue(self, polarization, angles = [0,np.pi,0,2*np.pi]) #sV_# -> strain value array (X,Y,Z,R)\n",
    "\n",
    "        #sV_HR_Pos = np.array([]) #Initialize empty array\n",
    "        \n",
    "        sV_X_Flat = sV_X.reshape((len(sV_X),len(sV_X[0])**2)) #Flatten cord array to 2d array \n",
    "        sV_Y_Flat = sV_Y.reshape((len(sV_Y),len(sV_Y[0])**2)) #Flatten cord array to 2d array \n",
    "        sV_Z_Flat = sV_Z.reshape((len(sV_Z),len(sV_Z[0])**2)) #Flatten cord array to 2d array \n",
    "        sV_HR_Flat = sV_HR.reshape((len(sV_HR),len(sV_HR[0])**2)) #Flatten radius array to 2d array \n",
    "\n",
    "        sV_HR_Pos = np.argmax(sV_HR_Flat,axis=1) #Get max R value at each time\n",
    "\n",
    "        sV_X_MV = np.take_along_axis(sV_X_Flat, np.expand_dims(sV_HR_Pos, axis=1),axis=1) #Get values associated with max R values at each time\n",
    "        sV_Y_MV = np.take_along_axis(sV_Y_Flat, np.expand_dims(sV_HR_Pos, axis=1),axis=1) #Get values associated with max R values at each time\n",
    "        sV_Z_MV = np.take_along_axis(sV_Z_Flat, np.expand_dims(sV_HR_Pos, axis=1),axis=1) #Get values associated with max R values at each time\n",
    "\n",
    "        sV_XYZ_MV = np.hstack((sV_X_MV,sV_Y_MV,sV_Z_MV)) #Stack cord arrays \n",
    "\n",
    "        dataSliceStart = int(np.where(analysisTime == analysisTime[(analysisTime >= dataSlice[0]) & (analysisTime <= dataSlice[1])][0])[0]) #Get slice parameters from dataSlice\n",
    "        dataSliceEnd = int(np.where(analysisTime == analysisTime[(analysisTime >= dataSlice[0]) & (analysisTime <= dataSlice[1])][-1])[0]) #Get slice parameters from dataSlice\n",
    "        \n",
    "        self.genScatterPlot(sV_XYZ_MV, prefix, path, title, rotationArray, analysisTime, norm = norm, dataSlice = (dataSliceStart, dataSliceEnd)) #Generate 3D scatter plot\n",
    "\n",
    "        print('ffmpeg compilation string: ', end=\"\")\n",
    "        print('ffmpeg -framerate 10 -i ' + prefix + '%04d.jpeg ' + outputFileName + 'Movie.mp4')\n",
    "        \n",
    "    def dipoleDirecPlots(self, N = 0, polarization = 0, angles = [0,np.pi/2,0,2*np.pi], norm = False, phiTF = False, specTF = False, saveTf = False, fileName = ''):\n",
    "        '''\n",
    "        Generate plots of data to analyse dipole direction of GW\n",
    "\n",
    "        N: number of sampled points\n",
    "        phiTF: conditional for wheterher to generate plots with the relevant phi data\n",
    "        specTF: conditional for whether to generate a spectrogram for the data\n",
    "        saveTF: conditional for whether to save the image or not\n",
    "        fileName: output file name used when saveTF = True, continues from self.path\n",
    "        '''\n",
    "        fntSize = 25 #Fontsize for all plots\n",
    "        legendSize = 25 #Size of the legend (if I can get it working)\n",
    "\n",
    "        theta, phi, time = tpc.maxStrainDipoleDirection(self, polarization = polarization, angles = angles, norm = norm) #Generate theta, phi, and time data to be used in the following calculations\n",
    "        \n",
    "        fig = plt.figure(figsize = (40,20))\n",
    "        axSV_MV_A1 = fig.add_subplot(411)\n",
    "        \n",
    "        print('Theta angles summed', np.sum(theta))\n",
    "        \n",
    "        axSV_MV_A1.plot(self.rawTime[self.timeSample], theta, c = 'blue', label = r'$\\theta$')\n",
    "        axSV_MV_A1.tick_params(axis='both', which='major', labelsize=fntSize/2)\n",
    "        axSV_MV_A1.set_title(self.dataFile + ' : theta', fontsize = fntSize)\n",
    "        #axSV_MV_A1.legend(prop = {'size':legendSize})\n",
    "        axSV_MV_A1.grid()\n",
    "\n",
    "        title = 'Fourier Transform of:' + self.dataFile\n",
    "\n",
    "        if specTF == True:\n",
    "            f1, t1, Sxx1 = tpc.genSpectOutputs(N, self.rawTime[self.timeSample], angle1 = theta)[:3]\n",
    "\n",
    "            axSV_MV_F1 = fig.add_subplot(412, sharex = axSV_MV_A1)\n",
    "\n",
    "            title = 'Spectrogram (' + self.dataFile + ' : theta)'\n",
    "\n",
    "            axSV_MV_F1.pcolormesh(t1, f1, Sxx1, shading='gouraud')\n",
    "            axSV_MV_F1.grid()\n",
    "            axSV_MV_F1.tick_params(axis='both', which='major', labelsize=fntSize/2)\n",
    "            axSV_MV_F1.set_ylabel('Frequency [Hz]', fontsize = fntSize)\n",
    "            axSV_MV_F1.set_xlabel('Time [sec]', fontsize = fntSize)\n",
    "            axSV_MV_F1.set_title(title, fontsize = fntSize)\n",
    "            axSV_MV_F1.set_ylim(0,3500)\n",
    "\n",
    "        if phiTF == True:\n",
    "\n",
    "            if specTF == True:\n",
    "                axSV_MV_A2 = fig.add_subplot(413)\n",
    "\n",
    "            else:\n",
    "                axSV_MV_A2 = fig.add_subplot(412)\n",
    "\n",
    "            print('Phi angles summed', np.sum(phi))\n",
    "            \n",
    "            axSV_MV_A2.plot(self.rawTime[self.timeSample], phi, c = 'red', label = '$\\phi$')\n",
    "            axSV_MV_A2.tick_params(axis='both', which='major', labelsize=fntSize/2)\n",
    "            axSV_MV_A2.set_title(self.dataFile + ' : phi', fontsize = fntSize)\n",
    "            #axSV_MV_A2.legend(prop = {'size':legendSize})\n",
    "            axSV_MV_A2.grid()\n",
    "\n",
    "            if specTF == True:\n",
    "                f2, t2, Sxx2 = tpc.genSpectOutputs(N, self.rawTime[self.timeSample], angle2 = phi)[3:]\n",
    "\n",
    "                axSV_MV_F2 = fig.add_subplot(414, sharex = axSV_MV_A2)\n",
    "\n",
    "                title = 'Spectrogram (' + self.dataFile + ' : phi)'\n",
    "\n",
    "                axSV_MV_F2.pcolormesh(t2, f2, Sxx2, shading='gouraud')\n",
    "                axSV_MV_F2.grid()\n",
    "                axSV_MV_F2.tick_params(axis='both', which='major', labelsize=fntSize/2)\n",
    "                axSV_MV_F2.set_ylabel('Frequency [Hz]', fontsize = fntSize)\n",
    "                axSV_MV_F2.set_xlabel('Time [sec]', fontsize = fntSize)\n",
    "                axSV_MV_F2.set_title(title, fontsize = fntSize)\n",
    "                axSV_MV_F2.set_ylim(0,3500)\n",
    "        \n",
    "        fig.tight_layout()\n",
    "        \n",
    "        if saveTf == True:\n",
    "\n",
    "            fig.savefig(self.path + fileName + '.jpeg')"
   ]
  },
  {
   "cell_type": "markdown",
   "metadata": {},
   "source": [
    "## Initialize Data Objects"
   ]
  },
  {
   "cell_type": "code",
   "execution_count": 3,
   "metadata": {},
   "outputs": [],
   "source": [
    "s40_fr = GWAnalysis(r'C:\\Users\\crazy\\PajkosResearch', 's40_3d_fr.dat', [0, 49, 51, 50, 52, 53, 54], timeStep=5, nVerts=12j, tBounce=0.484945-0.001)\n",
    "s40_fr.load_QuadData('RawDataFiles')\n",
    "s40_fr.set_rawDataHeaders(['Qxx','Qyy','Qxy','Qxz','Qyz','Qzz'])\n",
    "\n",
    "s40_nor = GWAnalysis( r'C:\\Users\\crazy\\PajkosResearch', 's40_3d_nor.dat', [0, 49, 51, 50, 52, 53, 54], timeStep=5, nVerts=10j, tBounce=0.4710)\n",
    "s40_nor.load_QuadData('RawDataFiles')\n",
    "s40_nor.set_rawDataHeaders(['Qxx','Qyy','Qxy','Qxz','Qyz','Qzz'])\n",
    "\n",
    "s40_sr = GWAnalysis( r'C:\\Users\\crazy\\PajkosResearch', 's40_3d_sr.dat', [0, 49, 51, 50, 52, 53, 54], timeStep=5, nVerts=10j, tBounce=0.474475)\n",
    "s40_sr.load_QuadData('RawDataFiles')\n",
    "s40_sr.set_rawDataHeaders(['Qxx','Qyy','Qxy','Qxz','Qyz','Qzz'])\n",
    "\n",
    "# mesa20_LR = GWAnalysis(r'C:/Users/crazy/PajkosResearch', 'mesa20_LR.dat', [0, 45, 47, 46, 48, 49, 50], timeStep=5, nVerts=12j, tBounce=0)\n",
    "# mesa20_LR.load_QuadData('RawDataFiles')\n",
    "# mesa20_LR.set_rawDataHeaders(['Qxx','Qyy','Qxy','Qxz','Qyz','Qzz'])\n",
    "\n",
    "# mesa20_pert = GWAnalysis(r'C:/Users/crazy/PajkosResearch', 'mesa20_pert.dat', [0, 45, 47, 46, 48, 49, 50], timeStep=5, nVerts=12j, tBounce=0)\n",
    "# mesa20_pert.load_QuadData('RawDataFiles')\n",
    "# mesa20_pert.set_rawDataHeaders(['Qxx','Qyy','Qxy','Qxz','Qyz','Qzz'])\n",
    "\n",
    "# mesa20_pert_LR = GWAnalysis(r'C:/Users/crazy/PajkosResearch', 'mesa20_pert_LR.dat', [0, 45, 47, 46, 48, 49, 50], timeStep=5, nVerts=12j, tBounce=0)\n",
    "# mesa20_pert_LR.load_QuadData('RawDataFiles')\n",
    "# mesa20_pert_LR.set_rawDataHeaders(['Qxx','Qyy','Qxy','Qxz','Qyz','Qzz'])\n",
    "\n",
    "# mesa20_v_LR = GWAnalysis(r'C:/Users/crazy/PajkosResearch', 'mesa20_v_LR.dat', [0, 45, 47, 46, 48, 49, 50], timeStep=5, nVerts=12j, tBounce=0)\n",
    "# mesa20_v_LR.load_QuadData('RawDataFiles')\n",
    "# mesa20_v_LR.set_rawDataHeaders(['Qxx','Qyy','Qxy','Qxz','Qyz','Qzz'])\n",
    "\n",
    "# mesa20b = GWAnalysis(r'C:/Users/crazy/PajkosResearch', 'mesa20b.dat', [0, 45, 47, 46, 48, 49, 50], timeStep=5, nVerts=12j, tBounce=0)\n",
    "# mesa20b.load_QuadData('RawDataFiles')\n",
    "# mesa20b.set_rawDataHeaders(['Qxx','Qyy','Qxy','Qxz','Qyz','Qzz'])"
   ]
  },
  {
   "cell_type": "markdown",
   "metadata": {},
   "source": [
    "## 2d Strain Analysis"
   ]
  },
  {
   "cell_type": "markdown",
   "metadata": {
    "scrolled": false
   },
   "source": [
    "s40_fr.GW2dAnalysis(1,angles=[np.pi/2,np.pi/2,0,2*np.pi],graphSize=[20,10],xlim=[-0.010,0.020],ylim=[-0.5*1e-20, 0.5*1e-20])"
   ]
  },
  {
   "cell_type": "markdown",
   "metadata": {},
   "source": [
    "s40_fr.GW2dAnalysis(1,angles=[np.pi/2,np.pi/2,2*np.pi,2*np.pi],graphSize=[20,10])"
   ]
  },
  {
   "cell_type": "markdown",
   "metadata": {},
   "source": [
    "mesa20_LR.GW2dAnalysis(1,[np.pi/2,np.pi/2,2*np.pi,2*np.pi],[20,10])"
   ]
  },
  {
   "cell_type": "markdown",
   "metadata": {},
   "source": [
    "attachedDataFR = np.loadtxt('RawDataFiles/s40_sr_GW_short.txt')\n",
    "\n",
    "fig, ax = plt.subplots(1)\n",
    "fig.set_size_inches(20,10)\n",
    "\n",
    "ax.plot(attachedDataFR[:,0], -attachedDataFR[:,1]) \n",
    "\n",
    "ax.set_xlabel('Time (s)')"
   ]
  },
  {
   "cell_type": "markdown",
   "metadata": {},
   "source": [
    "## Max Viewing Angle 3d Scatter Plots"
   ]
  },
  {
   "cell_type": "code",
   "execution_count": 4,
   "metadata": {},
   "outputs": [],
   "source": [
    "standardRotationArray = np.arange(0,361,2)"
   ]
  },
  {
   "cell_type": "markdown",
   "metadata": {},
   "source": [
    ">### s40_fr"
   ]
  },
  {
   "cell_type": "code",
   "execution_count": 5,
   "metadata": {},
   "outputs": [
    {
     "name": "stdout",
     "output_type": "stream",
     "text": [
      "The number of verticies or points has been updated to 80j\n"
     ]
    }
   ],
   "source": [
    "s40_fr.update_nVerts(80j)"
   ]
  },
  {
   "cell_type": "code",
   "execution_count": 6,
   "metadata": {},
   "outputs": [
    {
     "name": "stdout",
     "output_type": "stream",
     "text": [
      "ffmpeg compilation string: ffmpeg -framerate 10 -i 3DScatter_s40_cross_unnorm_%04d.jpeg 3DScatter_s40_3d_fr_cross_UnNormalized_Movie.mp4\n"
     ]
    }
   ],
   "source": [
    "#cross-polarized un-normalized\n",
    "blockTitle = 'Maximum Gravitational Wave Strain'\n",
    "s40_fr.maxStrainScatterPlot('3DScatter_s40_cross_unnorm_','AnimationRotateScatter/s40_3d_fr_MaxStrain_3dScatter/', \n",
    "                           '3DScatter_s40_3d_fr_cross_UnNormalized_', blockTitle, 0, norm = False, dataSlice=(-1,4), rotationArray=standardRotationArray)"
   ]
  },
  {
   "cell_type": "code",
   "execution_count": 7,
   "metadata": {},
   "outputs": [
    {
     "name": "stdout",
     "output_type": "stream",
     "text": [
      "ffmpeg compilation string: ffmpeg -framerate 10 -i 3DScatter_s40_cross_norm_%04d.jpeg 3DScatter_s40_3d_fr_cross_Normalized_Movie.mp4\n"
     ]
    }
   ],
   "source": [
    "#cross-polarized normalized\n",
    "blockTitle = 'Maximum Gravitational Wave Strain'\n",
    "s40_fr.maxStrainScatterPlot('3DScatter_s40_cross_norm_','AnimationRotateScatter/s40_3d_fr_MaxStrain_3dScatter/', \n",
    "                           '3DScatter_s40_3d_fr_cross_Normalized_', blockTitle, 0, norm = True, dataSlice=(-1,4), rotationArray=standardRotationArray)\n"
   ]
  },
  {
   "cell_type": "code",
   "execution_count": 8,
   "metadata": {},
   "outputs": [
    {
     "name": "stdout",
     "output_type": "stream",
     "text": [
      "ffmpeg compilation string: ffmpeg -framerate 10 -i 3DScatter_s40_plus_unnorm_%04d.jpeg 3DScatter_s40_3d_fr_plus_UnNormalized_Movie.mp4\n"
     ]
    }
   ],
   "source": [
    "#plus-polarized un-normalized\n",
    "blockTitle = 'Maximum Gravitational Wave Strain'\n",
    "s40_fr.maxStrainScatterPlot('3DScatter_s40_plus_unnorm_','AnimationRotateScatter/s40_3d_fr_MaxStrain_3dScatter/', \n",
    "                           '3DScatter_s40_3d_fr_plus_UnNormalized_', blockTitle, 1, norm = False, dataSlice=(-1,4), rotationArray=standardRotationArray)\n"
   ]
  },
  {
   "cell_type": "code",
   "execution_count": 9,
   "metadata": {},
   "outputs": [
    {
     "name": "stdout",
     "output_type": "stream",
     "text": [
      "ffmpeg compilation string: ffmpeg -framerate 10 -i 3DScatter_s40_plus_norm_%04d.jpeg 3DScatter_s40_3d_fr_plus_Normalized_Movie.mp4\n"
     ]
    }
   ],
   "source": [
    "#plus-polarized normalized\n",
    "blockTitle = 'Maximum Gravitational Wave Strain'\n",
    "s40_fr.maxStrainScatterPlot('3DScatter_s40_plus_norm_','AnimationRotateScatter/s40_3d_fr_MaxStrain_3dScatter/', \n",
    "                           '3DScatter_s40_3d_fr_plus_Normalized_', blockTitle, 1, norm = True, dataSlice=(-1,4), rotationArray=standardRotationArray)\n"
   ]
  },
  {
   "cell_type": "markdown",
   "metadata": {},
   "source": [
    ">### s40_nor"
   ]
  },
  {
   "cell_type": "code",
   "execution_count": 10,
   "metadata": {},
   "outputs": [
    {
     "name": "stdout",
     "output_type": "stream",
     "text": [
      "The number of verticies or points has been updated to 80j\n"
     ]
    }
   ],
   "source": [
    "s40_nor.update_nVerts(80j)"
   ]
  },
  {
   "cell_type": "code",
   "execution_count": 11,
   "metadata": {},
   "outputs": [
    {
     "name": "stdout",
     "output_type": "stream",
     "text": [
      "ffmpeg compilation string: ffmpeg -framerate 10 -i 3DScatter_s40_cross_unnorm_%04d.jpeg 3DScatter_s40_3d_nor_cross_UnNormalized_Movie.mp4\n"
     ]
    }
   ],
   "source": [
    "#cross-polarized un-normalized\n",
    "blockTitle = 'Maximum Gravitational Wave Strain'\n",
    "s40_nor.maxStrainScatterPlot('3DScatter_s40_cross_unnorm_','AnimationRotateScatter/s40_3d_nor_MaxStrain_3dScatter/', \n",
    "                           '3DScatter_s40_3d_nor_cross_UnNormalized_', blockTitle, 0, norm = False, dataSlice=(-1,4), rotationArray=standardRotationArray)"
   ]
  },
  {
   "cell_type": "code",
   "execution_count": 12,
   "metadata": {},
   "outputs": [
    {
     "name": "stdout",
     "output_type": "stream",
     "text": [
      "ffmpeg compilation string: ffmpeg -framerate 10 -i 3DScatter_s40_cross_norm_%04d.jpeg 3DScatter_s40_3d_nor_cross_Normalized_Movie.mp4\n"
     ]
    }
   ],
   "source": [
    "#cross-polarized normalized\n",
    "blockTitle = 'Maximum Gravitational Wave Strain'\n",
    "s40_nor.maxStrainScatterPlot('3DScatter_s40_cross_norm_','AnimationRotateScatter/s40_3d_nor_MaxStrain_3dScatter/', \n",
    "                           '3DScatter_s40_3d_nor_cross_Normalized_', blockTitle, 0, norm = True, dataSlice=(-1,4), rotationArray=standardRotationArray)\n"
   ]
  },
  {
   "cell_type": "code",
   "execution_count": 13,
   "metadata": {},
   "outputs": [
    {
     "name": "stdout",
     "output_type": "stream",
     "text": [
      "ffmpeg compilation string: ffmpeg -framerate 10 -i 3DScatter_s40_plus_unnorm_%04d.jpeg 3DScatter_s40_3d_nor_plus_UnNormalized_Movie.mp4\n"
     ]
    }
   ],
   "source": [
    "#plus-polarized un-normalized\n",
    "blockTitle = 'Maximum Gravitational Wave Strain'\n",
    "s40_nor.maxStrainScatterPlot('3DScatter_s40_plus_unnorm_','AnimationRotateScatter/s40_3d_nor_MaxStrain_3dScatter/', \n",
    "                           '3DScatter_s40_3d_nor_plus_UnNormalized_', blockTitle, 1, norm = False, dataSlice=(-1,4), rotationArray=standardRotationArray)\n"
   ]
  },
  {
   "cell_type": "code",
   "execution_count": 14,
   "metadata": {},
   "outputs": [
    {
     "name": "stdout",
     "output_type": "stream",
     "text": [
      "ffmpeg compilation string: ffmpeg -framerate 10 -i 3DScatter_s40_plus_norm_%04d.jpeg 3DScatter_s40_3d_nor_plus_Normalized_Movie.mp4\n"
     ]
    }
   ],
   "source": [
    "#plus-polarized normalized\n",
    "blockTitle = 'Maximum Gravitational Wave Strain'\n",
    "s40_nor.maxStrainScatterPlot('3DScatter_s40_plus_norm_','AnimationRotateScatter/s40_3d_nor_MaxStrain_3dScatter/', \n",
    "                           '3DScatter_s40_3d_nor_plus_Normalized_', blockTitle, 1, norm = True, dataSlice=(-1,4), rotationArray=standardRotationArray)\n"
   ]
  },
  {
   "cell_type": "markdown",
   "metadata": {},
   "source": [
    ">### s40_sr"
   ]
  },
  {
   "cell_type": "code",
   "execution_count": 15,
   "metadata": {},
   "outputs": [
    {
     "name": "stdout",
     "output_type": "stream",
     "text": [
      "ffmpeg compilation string: ffmpeg -framerate 10 -i 3DScatter_s40_cross_unnorm_%04d.jpeg 3DScatter_s40_3d_sr_cross_UnNormalized_Movie.mp4\n"
     ]
    }
   ],
   "source": [
    "#cross-polarized un-normalized\n",
    "blockTitle = 'Maximum Gravitational Wave Strain'\n",
    "s40_sr.maxStrainScatterPlot('3DScatter_s40_cross_unnorm_','AnimationRotateScatter/s40_3d_sr_MaxStrain_3dScatter/', \n",
    "                           '3DScatter_s40_3d_sr_cross_UnNormalized_', blockTitle, 0, norm = False, dataSlice=(-1,4), rotationArray=standardRotationArray)"
   ]
  },
  {
   "cell_type": "code",
   "execution_count": 16,
   "metadata": {},
   "outputs": [
    {
     "name": "stdout",
     "output_type": "stream",
     "text": [
      "ffmpeg compilation string: ffmpeg -framerate 10 -i 3DScatter_s40_cross_norm_%04d.jpeg 3DScatter_s40_3d_sr_cross_Normalized_Movie.mp4\n"
     ]
    }
   ],
   "source": [
    "blockTitle = 'Maximum Gravitational Wave Strain'\n",
    "s40_sr.maxStrainScatterPlot('3DScatter_s40_cross_norm_','AnimationRotateScatter/s40_3d_sr_MaxStrain_3dScatter/', \n",
    "                           '3DScatter_s40_3d_sr_cross_Normalized_', blockTitle, 0, norm = True, dataSlice=(-1,4), rotationArray=standardRotationArray)\n"
   ]
  },
  {
   "cell_type": "code",
   "execution_count": 17,
   "metadata": {},
   "outputs": [
    {
     "name": "stdout",
     "output_type": "stream",
     "text": [
      "ffmpeg compilation string: ffmpeg -framerate 10 -i 3DScatter_s40_plus_unnorm_%04d.jpeg 3DScatter_s40_3d_sr_plus_UnNormalized_Movie.mp4\n"
     ]
    }
   ],
   "source": [
    "blockTitle = 'Maximum Gravitational Wave Strain'\n",
    "s40_sr.maxStrainScatterPlot('3DScatter_s40_plus_unnorm_','AnimationRotateScatter/s40_3d_sr_MaxStrain_3dScatter/', \n",
    "                           '3DScatter_s40_3d_sr_plus_UnNormalized_', blockTitle, 1, norm = False, dataSlice=(-1,4), rotationArray=standardRotationArray)\n"
   ]
  },
  {
   "cell_type": "code",
   "execution_count": 18,
   "metadata": {},
   "outputs": [
    {
     "name": "stdout",
     "output_type": "stream",
     "text": [
      "ffmpeg compilation string: ffmpeg -framerate 10 -i 3DScatter_s40_plus_norm_%04d.jpeg 3DScatter_s40_3d_sr_plus_Normalized_Movie.mp4\n"
     ]
    }
   ],
   "source": [
    "blockTitle = 'Maximum Gravitational Wave Strain'\n",
    "s40_sr.maxStrainScatterPlot('3DScatter_s40_plus_norm_','AnimationRotateScatter/s40_3d_sr_MaxStrain_3dScatter/', \n",
    "                           '3DScatter_s40_3d_sr_plus_Normalized_', blockTitle, 1, norm = True, dataSlice=(-1,4), rotationArray=standardRotationArray)\n"
   ]
  },
  {
   "cell_type": "markdown",
   "metadata": {},
   "source": [
    "mesa20_LR.update_nVerts(60j)\n",
    "\n",
    "blockTitle = 'Maximum Gravitational Wave Strain (Data: '+'mesa20_LR.'+') ('+'cross-polarized'+') (Normalized)'\n",
    "mesa20_LR.maxStrainScatterPlot('3DScatter_mesa20_LR_cross_Normalized_','AnimationRotateScatter/mesa20_LR_MaxStrain_3dScatter/', \n",
    "                           '3DScatter_mesa20_LR_cross_Normalized_', blockTitle, 0, norm = True, dataSlice=(-1,4), rotationArray=np.arange(0,180))\n"
   ]
  },
  {
   "cell_type": "markdown",
   "metadata": {},
   "source": [
    "## Spectrogram Plot Testing"
   ]
  },
  {
   "cell_type": "markdown",
   "metadata": {
    "scrolled": false
   },
   "source": [
    "s40_fr.update_nVerts(80j)\n",
    "s40_fr.update_timeSample=5\n",
    "s40_fr.dipoleDirecPlots(N = 13e3, polarization=0, angles = [0,np.pi,0,2*np.pi], norm = True, specTF=True, phiTF=True)"
   ]
  },
  {
   "cell_type": "markdown",
   "metadata": {
    "scrolled": false
   },
   "source": [
    "mesa20_LR.update_nVerts(80j)\n",
    "mesa20_LR.update_timeSample=1\n",
    "mesa20_LR.dipoleDirecPlots(N = 13e3, polarization=0, angles = [0,np.pi,0,2*np.pi], norm = True, specTF=True, phiTF=True)"
   ]
  },
  {
   "cell_type": "code",
   "execution_count": null,
   "metadata": {},
   "outputs": [],
   "source": []
  }
 ],
 "metadata": {
  "kernelspec": {
   "display_name": "Python 3",
   "language": "python",
   "name": "python3"
  },
  "language_info": {
   "codemirror_mode": {
    "name": "ipython",
    "version": 3
   },
   "file_extension": ".py",
   "mimetype": "text/x-python",
   "name": "python",
   "nbconvert_exporter": "python",
   "pygments_lexer": "ipython3",
   "version": "3.8.5"
  }
 },
 "nbformat": 4,
 "nbformat_minor": 5
}
