{
 "cells": [
  {
   "cell_type": "code",
   "execution_count": 19,
   "metadata": {},
   "outputs": [],
   "source": [
    "class GWAnalysis:\n",
    "    '''\n",
    "    Tool for analizing gravitational waves\n",
    "    '''\n",
    "    \n",
    "    def __init__(self, dataPath, dataFile, dataColumns):\n",
    "        '''\n",
    "        dataPath: relative path to the main repository of the data/program\n",
    "        dataFile: file name\n",
    "        dataColumns: list of columns numbers that reference the data in the file\n",
    "        '''\n",
    "        \n",
    "        #Import neccesary packages to the correct namespace\n",
    "        import numpy as np\n",
    "        \n",
    "        #Set attributes\n",
    "        self.dataPath = dataPath\n",
    "        self.dataFile = dataFile\n",
    "        self.dataColumns = dataColumns\n",
    "        \n",
    "    def loadQuadData(self, dataFolder = 0):\n",
    "        '''\n",
    "        Load and store data\n",
    "        \n",
    "        dataFolder: name of folder where data is stored\n",
    "        '''\n",
    "        #Check if the data file is stored in a folder or not, create the correct filePath\n",
    "        if dataFolder != 0:\n",
    "            filePath = self.dataPath + '\\\\' + dataFolder + '\\\\' + self.dataFile\n",
    "        \n",
    "        else:\n",
    "            filePath = self.dataPath + '\\\\' + self.dataFile\n",
    "        \n",
    "        #Load in the data associated with the file and the specified columns\n",
    "        t,Qxx,Qyy,Qxy,Qxz,Qyz,Qzz = np.loadtxt(filePath, usecols = (self.dataColumns), unpack=True)\n",
    "    \n",
    "        self.rawTime = t\n",
    "        self.rawData = np.array([Qxx,Qyy,Qxy,Qxz,Qyz,Qzz])\n",
    "        \n",
    "    def rawDataHeaders(self, dataHeaders):\n",
    "        '''\n",
    "        Save headers for the raw data\n",
    "        \n",
    "        dataHeaders: list of headers equal in length to rawData\n",
    "        '''\n",
    "        \n",
    "        self.dataHeaders = dataHeaders"
   ]
  },
  {
   "cell_type": "code",
   "execution_count": 20,
   "metadata": {},
   "outputs": [],
   "source": [
    "import numpy as np\n",
    "\n",
    "test1 = GWAnalysis( r'C:\\Users\\crazy\\PajkosResearch', 'mesa20_LR.dat', [0, 45, 47, 46, 48, 49, 50])\n",
    "test1.loadQuadData('RawDataFiles')\n",
    "test1.rawDataHeaders(['Qxx','Qyy','Qxy','Qxz','Qyz','Qzz'])"
   ]
  },
  {
   "cell_type": "code",
   "execution_count": 29,
   "metadata": {},
   "outputs": [
    {
     "data": {
      "text/plain": [
       "array([[-5.05539059e+33,  3.56235577e+37,  9.87098175e+37, ...,\n",
       "         6.07885003e+44,  6.06370910e+44,  5.97351785e+44],\n",
       "       [-1.36906265e+33,  1.85985386e+37,  5.14810250e+37, ...,\n",
       "        -7.60474478e+44, -7.63677625e+44, -7.63607609e+44],\n",
       "       [-3.95506987e+32,  8.29932268e+37,  2.29865700e+38, ...,\n",
       "        -1.28147594e+44, -1.81740984e+44, -2.32256612e+44],\n",
       "       [-2.23613566e+33,  1.04968670e+38,  2.90737055e+38, ...,\n",
       "        -5.77068525e+44, -5.92127448e+44, -6.07224168e+44],\n",
       "       [-9.12708432e+32,  1.25975993e+38,  3.48879776e+38, ...,\n",
       "        -7.97585321e+44, -7.68305790e+44, -7.35412886e+44],\n",
       "       [-6.44473565e+33, -5.42476471e+37, -1.50198682e+38, ...,\n",
       "         1.52589475e+44,  1.57306715e+44,  1.66255824e+44]])"
      ]
     },
     "metadata": {},
     "output_type": "display_data"
    },
    {
     "data": {
      "text/plain": [
       "['Qxx', 'Qyy', 'Qxy', 'Qxz', 'Qyz', 'Qzz']"
      ]
     },
     "metadata": {},
     "output_type": "display_data"
    }
   ],
   "source": [
    "display(test1.rawData)\n",
    "display(test1.dataHeaders)"
   ]
  },
  {
   "cell_type": "code",
   "execution_count": null,
   "metadata": {},
   "outputs": [],
   "source": []
  }
 ],
 "metadata": {
  "kernelspec": {
   "display_name": "Python 3",
   "language": "python",
   "name": "python3"
  },
  "language_info": {
   "codemirror_mode": {
    "name": "ipython",
    "version": 3
   },
   "file_extension": ".py",
   "mimetype": "text/x-python",
   "name": "python",
   "nbconvert_exporter": "python",
   "pygments_lexer": "ipython3",
   "version": "3.8.5"
  }
 },
 "nbformat": 4,
 "nbformat_minor": 5
}
