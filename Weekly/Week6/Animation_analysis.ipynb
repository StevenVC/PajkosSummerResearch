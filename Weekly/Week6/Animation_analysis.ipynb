{
 "cells": [
  {
   "cell_type": "code",
   "execution_count": null,
   "metadata": {},
   "outputs": [],
   "source": [
    "import numpy as np\n",
    "import matplotlib.pyplot as plt\n",
    "import random\n",
    "from random import uniform"
   ]
  },
  {
   "cell_type": "code",
   "execution_count": null,
   "metadata": {},
   "outputs": [],
   "source": [
    "def rotate_it(x, y, angle):\n",
    "    \n",
    "    #[ ] This function should rotate x and y to new values\n",
    "    #    based on the input angle according to the 'rotation matrix'\n",
    "    xnew = \n",
    "    ynew = \n",
    "    \n",
    "    return xnew, ynew"
   ]
  },
  {
   "cell_type": "code",
   "execution_count": null,
   "metadata": {},
   "outputs": [],
   "source": [
    "N_angles = 50\n",
    "\n",
    "angle_shift = np.pi/10.\n",
    "angles = np.linspace(0, np.pi, N_angles)\n",
    "\n",
    "#[ ] What does this step do?\n",
    "r = np.sin(angles)**2\n",
    "x = r*np.sin(angles)\n",
    "y = r*np.cos(angles)\n",
    "\n",
    "tlo = 0\n",
    "thi = 10\n",
    "Nt = 20\n",
    "random.seed(131)\n",
    "\n",
    "\n",
    "for t in np.linspace(tlo, thi, Nt):\n",
    "    \n",
    "    rand_scale = 1.3\n",
    "    \n",
    "    rand =  #[ ] should be a random float between 1/(rand_scale) and \n",
    "            #    rand_scale\n",
    "\n",
    "    x = x / rand\n",
    "    y = y / rand\n",
    "    \n",
    "    x, y = rotate_it(x, y, angle_shift)\n",
    "    \n",
    "    #[ ] plotting needed - use the matplotlib \n",
    "    #   'Dark background style sheet'"
   ]
  }
 ],
 "metadata": {
  "kernelspec": {
   "display_name": "Python 3",
   "language": "python",
   "name": "python3"
  },
  "language_info": {
   "codemirror_mode": {
    "name": "ipython",
    "version": 3
   },
   "file_extension": ".py",
   "mimetype": "text/x-python",
   "name": "python",
   "nbconvert_exporter": "python",
   "pygments_lexer": "ipython3",
   "version": "3.7.4"
  }
 },
 "nbformat": 4,
 "nbformat_minor": 2
}
